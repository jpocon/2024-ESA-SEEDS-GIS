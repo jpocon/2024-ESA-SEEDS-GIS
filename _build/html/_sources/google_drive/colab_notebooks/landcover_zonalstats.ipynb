{
  "nbformat": 4,
  "nbformat_minor": 0,
  "metadata": {
    "colab": {
      "provenance": []
    },
    "kernelspec": {
      "name": "python3",
      "display_name": "Python 3"
    },
    "language_info": {
      "name": "python"
    }
  },
  "cells": [
    {
      "cell_type": "markdown",
      "source": [
        "## **Zonal Stats: Exploring spectra by land cover**\n",
        "\n",
        "#### Reflection exercises for each group:\n",
        "\n",
        "1. At the top of the Colab notebook that you share with everyone, please include your responses to the following questions:\n",
        "  - Choose at least 1 dataset to explore in more detail.\n",
        "  - What is the projection for this dataset?\n",
        "  - Where can you find more information on how the data were collected and how to interpret the metadata?\n",
        "  - Think about what data type each variable is.\n",
        "  - Is it vector or raster data? What properties exist for each dataset?\n",
        "  - What resolution are your data?\n",
        "\n",
        "2. At the top of the Colab notebook, write a short summary detailing the processing steps in the notebook and your results.\n",
        "  - Although these topics may be far removed from your own interests, how could these steps and analyses help in your own work?\n",
        "\n",
        "3. OPTIONAL - Expand your script by adding additional processing, analysis, or other data.\n",
        "\n",
        "As you're working through your exercise, **add code chunks to further document your scripts. Add additional comments to the code itself to clarify complicated processes.**\n"
      ],
      "metadata": {
        "id": "OOOsqwESbbp-"
      }
    },
    {
      "cell_type": "markdown",
      "source": [
        "\n",
        "\n",
        "---\n",
        "\n"
      ],
      "metadata": {
        "id": "vBxSl7Yye9PE"
      }
    },
    {
      "cell_type": "markdown",
      "source": [
        "### Grouping pixels by land cover type\n",
        "\n",
        "In this section, we'll group pixels by landcover type, and then plot the average spectral signature for each landcover type. We'll be using the GEE function reduceRegion to get the average value for each band by landcover type.\n",
        "\n",
        "This project was inpsired by the following NEON Tutorial: [Spectral signatures by NDVI threshold in Python](https://www.neonscience.org/resources/learning-hub/tutorials/calc-refl-ndvi-py). Check it out (or any of their other awesome tutorials!) to learn more!\n"
      ],
      "metadata": {
        "id": "YApeTnjq-ykH"
      }
    },
    {
      "cell_type": "code",
      "source": [
        "import ee\n",
        "import geemap\n",
        "import geemap.colormaps as cm\n",
        "ee.Authenticate()\n",
        "ee.Initialize(project='')\n",
        "geemap.ee_initialize(project='')"
      ],
      "metadata": {
        "id": "w_pBUMLZ_Iwc"
      },
      "execution_count": null,
      "outputs": []
    },
    {
      "cell_type": "code",
      "execution_count": null,
      "metadata": {
        "id": "uftYSXte-rvy"
      },
      "outputs": [],
      "source": [
        "# Import SOAP data\n",
        "aopSDR = ee.ImageCollection('projects/neon-prod-earthengine/assets/DP3-30006-001')\n",
        "SOAP_2019_sdr = aopSDR \\\n",
        "  .filterDate('2019-01-01', '2019-12-31') \\\n",
        "  .filterMetadata('NEON_SITE', 'equals', 'SOAP') \\\n",
        "  .first()\n",
        "\n",
        "aopRGB = ee.ImageCollection('projects/neon-prod-earthengine/assets/DP3-30010-001')\n",
        "SOAP_2019_rgb = aopRGB \\\n",
        "  .filterDate('2019-01-01', '2019-12-31') \\\n",
        "  .filterMetadata('NEON_SITE', 'equals', 'SOAP') \\\n",
        "  .first()\n",
        "\n",
        "# Create our region of interest (ROI)\n",
        "full_mask = ee.Image.constant(1).clip(SOAP_2019_sdr.geometry()) \\\n",
        "                .updateMask(SOAP_2019_sdr.select(['B001']).mask()) \\\n",
        "                .reduceToVectors(maxPixels=1e13, scale=100)\n",
        "ROI = full_mask.geometry().buffer(-30)\n",
        "\n",
        "# Import NLCD data, clip to SOAP\n",
        "NLCD = ee.ImageCollection(\"USGS/NLCD_RELEASES/2021_REL/NLCD\") \\\n",
        "          .filterBounds(ROI) \\\n",
        "          .first() \\\n",
        "          .clip(ROI)\n",
        "# Set up visualization params\n",
        "RGB_bands = ['B053', 'B035', 'B019'] # These are the band names for the red, green, blue bands in the SDR data\n",
        "rgbVis = {'min': 0, 'max': 255, 'gamma': 0.8} # This sets a nice range of values for mapping the RGB data"
      ]
    },
    {
      "cell_type": "code",
      "source": [
        "# View NLCD data for SOAP\n",
        "m = geemap.Map()\n",
        "m.addLayer(SOAP_2019_rgb, rgbVis, 'SOAP 2019 RGB')\n",
        "m.addLayer(NLCD.select('landcover'), None, 'landcover')\n",
        "m.centerObject(ROI, 10)\n",
        "m"
      ],
      "metadata": {
        "id": "myq9XO0HAdYv"
      },
      "execution_count": null,
      "outputs": []
    },
    {
      "cell_type": "code",
      "source": [
        "import numpy as np    # import additional packages for dataframe manipulation, plotting in python\n",
        "import pandas as pd\n",
        "import seaborn as sns\n",
        "\n",
        "# Select the WL_FWHM_B*** band properties (using regex)\n",
        "properties = SOAP_2019_sdr.toDictionary()\n",
        "wl_fwhm_dict = properties.select(['WL_FWHM_B+\\d{3}'])\n",
        "\n",
        "# Pull out the wavelength, fwhm values to a list\n",
        "wl_fwhm_list = wl_fwhm_dict.values()\n",
        "\n",
        "# Function to pull out the wavelength values only and convert the string to float\n",
        "def get_wavelengths(x):\n",
        "  str_split = ee.String(x).split(',')\n",
        "  first_elem = ee.Number.parse((str_split.get(0)))\n",
        "  return first_elem\n",
        "\n",
        "# apply the function to the wavelength full-width-half-max list\n",
        "wavelengths = wl_fwhm_list.map(get_wavelengths)\n",
        "\n",
        "# Set up some additional lists and dictionaries that will allow us to nicely print the wavelength values in nanometers, and use the NLCD color palette\n",
        "wavelengthsL = np.array(wavelengths.getInfo()).astype('str')  # get a list of wavelengths measured in the SDR data\n",
        "\n",
        "palette = ee.List(NLCD.get(\"landcover_class_palette\")).getInfo()  # Get the color palette, landcover code values, landcover names from NLCD\n",
        "values = ee.List(NLCD.get(\"landcover_class_values\")).getInfo()\n",
        "names =  ee.List(NLCD.get(\"landcover_class_names\")).map(lambda s: ee.String(s).slice(0, ee.String(s).index(':'))).getInfo()\n",
        "\n",
        "\n",
        "nlcd_dict = {values[i]: names[i] for i in range(16)}  # create a dictionary linking the landcover names and lancover codes\n",
        "palette = ['#'+s.upper() for s in palette]  # convert palette values to hex format\n",
        "colDict = dict(zip(names, palette))         # create dict of landcover_names to colors"
      ],
      "metadata": {
        "id": "4dZXNjpi_QkR"
      },
      "execution_count": null,
      "outputs": []
    },
    {
      "cell_type": "code",
      "source": [
        "## Get the average reflectance value for each wavelength, for each vegetation type\n",
        "\n",
        "# Set up for input to reduceRegion\n",
        "SOAP_2019_toReduce = SOAP_2019_sdr.select('B.*') # just select the wavelength bands\n",
        "lcbandNum = SOAP_2019_toReduce.bandNames().length() # calculate the number of bands to reduce\n",
        "\n",
        "# Apply reduceRegion to the SDR data with landcover\n",
        "means = SOAP_2019_toReduce.addBands(NLCD.select('landcover')).reduceRegion(\n",
        "  reducer=ee.Reducer.mean().repeat(lcbandNum).group(groupField=lcbandNum, groupName='landcover'),\n",
        "  geometry=ROI,\n",
        "  scale=30,\n",
        "  maxPixels=1e13)"
      ],
      "metadata": {
        "id": "OPlagRmd_S96"
      },
      "execution_count": null,
      "outputs": []
    },
    {
      "cell_type": "code",
      "source": [
        "# Create a pandas dataframe from a featureCollection created using the output of reduceRegions\n",
        "reformatted_means = ee.FeatureCollection(ee.List(means.get('groups')).map(lambda obj: ee.Feature(None, obj)))\n",
        "lc_wv_df = geemap.ee_to_df(reformatted_means)\n",
        "lc_wv_df"
      ],
      "metadata": {
        "id": "pLF6uduQ_Uwe"
      },
      "execution_count": null,
      "outputs": []
    },
    {
      "cell_type": "code",
      "source": [
        "# Clean up the pandas dataframe for plotting\n",
        "lc_wv_df['landcover_name'] = lc_wv_df['landcover'].transform(lambda x: nlcd_dict[x])  # create a landcover name column\n",
        "lc_wv_df[wavelengthsL] = pd.DataFrame(lc_wv_df['mean'].tolist()) # expand the \"mean\" column into 400+ columns (1 column per wavelength)\n",
        "\n",
        "# Create a pandas dataframe with the columns landcover_name, wavelength, reflectance for plotting\n",
        "df = pd.melt(lc_wv_df,\n",
        "             id_vars=['landcover_name'],\n",
        "             value_vars=wavelengthsL,\n",
        "             var_name='wavelength (nm)',\n",
        "             value_name='reflectance') \\\n",
        "        .astype(dtype= {\"landcover_name\":\"str\",\n",
        "                        \"wavelength (nm)\":\"float64\",\n",
        "                        \"reflectance\":\"float64\"})\n",
        "df"
      ],
      "metadata": {
        "id": "bXjA8O9R_W5a"
      },
      "execution_count": null,
      "outputs": []
    },
    {
      "cell_type": "code",
      "source": [
        "# Plot spectra by landcover type\n",
        "ax = sns.lineplot(data=df, x=\"wavelength (nm)\", y=\"reflectance\", hue=\"landcover_name\", palette=colDict)\n",
        "sns.move_legend(ax, \"upper left\", bbox_to_anchor=(1, 1))\n"
      ],
      "metadata": {
        "id": "DE9iU-YB_Y15"
      },
      "execution_count": null,
      "outputs": []
    },
    {
      "cell_type": "markdown",
      "source": [
        "\n",
        "\n",
        "---\n",
        "\n"
      ],
      "metadata": {
        "id": "e5Gg0IAXe-3i"
      }
    },
    {
      "cell_type": "markdown",
      "metadata": {
        "id": "3007c680"
      },
      "source": [
        "## Additional Resources\n",
        "\n",
        "* **End-to-End Google Earth Engine**: If you'd like to continue exploring the Earth Engine processes and applications, <a href=\"https://courses.spatialthoughts.com/end-to-end-gee.html#automatic-conversion-of-javascript-code-to-python\" target=\"_blank\"> SpatialThoughts Course - Ujaval Gandhi </a> has some nice examples you can follow.\n",
        "\n"
      ]
    }
  ]
}