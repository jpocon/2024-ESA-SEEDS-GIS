{
 "cells": [
  {
   "cell_type": "markdown",
   "metadata": {
    "id": "OOOsqwESbbp-"
   },
   "source": [
    "## **Zonal Stats: Exploring spectra by land cover**\n",
    "\n",
    "Group participant's: Darimar Davila, Queriah Simpson, Taylor Howard, Jamie Casseus, Thi Mai Anh Tran, Christinah Adegboyega, Tolulope Fiola, and F__.\n",
    "\n",
    "**Brief Summary:**\n",
    "\n",
    "In this project, we explore a dataset in detail, focusing on spectral data and land cover classification. We start by selecting and examining the dataset's projection, metadata, data types, and resolution. Using Google Earth Engine (GEE), we import NEON dataset and filter the SOAP dataset for 2019, create a region of interest (ROI), and clip the data accordingly. We then bring in National Land Cover Database (NLCD) data for further analysis. The main task involves grouping pixels by land cover type and calculating the average spectral signature for each type using the reduceRegion function. This data is transformed into a pandas DataFrame for easier manipulation and plotting. Finally, we visualize the spectral signatures of different land cover types using AOP, allowing us to see the average reflectance values across different wavelengths.\n",
    "\n",
    "\n",
    "#Question 1. At the top of the Colab notebook that you share with everyone, please include your responses to the following questions:\n",
    "\n",
    "\n",
    "  - **Choose at least 1 dataset to explore in more detail.**\n",
    "\n",
    "      NLCD (the National Land Cover Database) is a 30-m Landsat-based land cover database spanning 8 epochs (2001, 2004, 2006, 2008, 2011, 2013, 2016, and 2019).The images rely on the imperviousness data layer for the urban classes and on a decision-tree classification for the rest.\n",
    "\n",
    "      [NCLD Datasets](https://www.sciencebase.gov/catalog/item/5f21cef582cef313ed940043)\n",
    "\n",
    "\n",
    "\n",
    "  - **What is the projection for this dataset?**\n",
    "\n",
    "      Projection Information for B053: {'type': 'Projection', 'crs': 'EPSG:32611', 'transform': [1, 0, 292000, 0, -1, 4110000]}\n",
    "\n",
    "      Codes (below)\n",
    "\n",
    "\n",
    " - **Where can you find more information on how the data were collected and how to interpret the metadata?**\n",
    "\n",
    "      [ImageCollection Information and Metadata](https://developers.google.com/earth-engine/guides/ic_info)\n",
    "\n",
    "    from the code, we extracted the metadata, following the metadata link, we got to the neon website for the image that includes information on resolution, how data was collected.\n",
    "\n",
    "\n",
    "  - **Think about what data type each variable is**.\n",
    "\n",
    "       In the metadata information for each band shows data type showing pixel type, min, max, precision\n",
    "\n",
    "      \n",
    "  - **Is it vector or raster data? What properties exist for each dataset?**\n",
    "\n",
    "      [Raster to Vector Conversion](https://developers.google.com/earth-engine/guides/reducers_reduce_to_vectors)\n",
    "\n",
    "      It is a Raster data.\n",
    "      To determine the geometry of the 'region of interest', 'reducetovector' function was used to convert the raster to vector data.\n",
    "\n",
    "      For the raster data, the property was metadata.\n",
    "      For the vector data, geometry.\n",
    "\n",
    "  - **What resolution are your data?**\n",
    "\n",
    "      Resolution: 30 meters The National Land Cover Database (NLCD) data generally has a spatial resolution of 30 meters, meaning each pixel represents a 30m x 30m area on the ground. SOAP Hyperspectral Data (aopSDR):\n",
    "\n",
    "      Resolution: 1 meter NEON's Airborne Observation Platform (AOP) collects hyperspectral imagery at a high resolution, typically around 1 meter, meaning each pixel represents a 1m x 1m area. SOAP RGB Data (aopRGB):\n",
    "\n",
    "      Resolution: 10 cm (0.1 meter) NEON's RGB imagery is collected at an even higher resolution, often around 10 centimeters, meaning each pixel represents a 10cm x 10cm area.\n",
    "\n",
    "#Question 2: At the top of the Colab notebook, write a short summary detailing the processing steps in the notebook and your results.\n",
    "\n",
    "In the first code chunk, we set up the necessary package for our workspace and use our id for authentication.\n",
    "\n",
    "Next, we import our data: from NEON 2019- we import 2 data type and named them SOAP_2019_sdr and SOAP_2019_rgb\n",
    "\n",
    "Choose at least 1 dataset to explore in more detail.- We  looked at SOAP_2019_sdr. From the code, we can see the projection information.\n",
    "\n",
    "    1.1. What is the projection for this dataset?-  Projection of band B053 is crs (coordinate reference system) : EPSG:32611 (which means, WGS 84 UTM zone 11N).\n",
    "\n",
    "    1.2. Where can you find more information on how the data were collected and how to interpret the metadata?- from the code, we extracted the metadata, following the metadata link, we got to the neon website for the image that includes information on resolution, how data was collected.\n",
    "\n",
    "    1.3. Think about what data type each variable is.- in the metadata information for each band shows data type showing pixel type, min, max, precision\n",
    "\n",
    "    1.4. Is it vector or raster data? What properties exist for each dataset?- Raster data. For properties, there are 18 elements for SOAP_2019_rgb which includes flight year, Neon domain, sensor name.\n",
    "\n",
    "    1.5. What resolution is your data? spatial resolution is at least 0.1 m.\n",
    "\n",
    "\n",
    "After having understanding about our data, we create a mask based on the geometry of a satellite image to make boundary for the study area.\n",
    "\n",
    "Then, we imported and clips National Land Cover Database data to our study area.\n",
    "\n",
    "In order to save our data and to make the analysis more convenient, we mount it to the Google Drive\n",
    "\n",
    "Using geemap, we now can see the map of our study area with the land cover data now.\n",
    "\n",
    "From there, we import numpy, pandas, and seaborn to analyze data and plot the graph:\n",
    "\n",
    "We selected the wavelength full-width-half-max band properties from the SOAP_2019_sdr image, then extracts the wavelength values from the bands properties.\n",
    "\n",
    "After having a list of wavelength values, we turn them into a floating value type and create a color palette for land cover classification.\n",
    "\n",
    "Then, we calculated the average reflectance value for each wavelength categorized by vegetation type, within our study area\n",
    "The reflectance of each row will be the mean of all the bands in each cell stacking up\n",
    "\n",
    "Finally, we create dataframe for plotting the reflectance\n",
    "\n",
    "\n",
    "  - **Although these topics may be far removed from your own interests, how could these steps and analyses help in your own work?**\n",
    "\n",
    "We found the clipping area code is useful for us to make a map of our study areas, which includes all attributes that we want. For example, our group can now find data sources and build a map that contains information about climate change observations/landscape changes observations/phenology observations recorded from local communities or maps that show socio-economic and cultural factors.\n",
    "\n",
    "Adding from this exercise, we are thinking about adding data to analyze how land use changes over time, forest classification and forest change, and create habitat classification for our own interest species.\n",
    "\n",
    "\n"
   ]
  },
  {
   "cell_type": "code",
   "execution_count": null,
   "metadata": {
    "id": "E6sHxLtoW2B_"
   },
   "outputs": [],
   "source": [
    "####### Getting information about projection#################\n",
    "# First way to do it: Set up visualization params\n",
    "RGB_bands = ['B053', 'B035', 'B019'] # These are the band names for the red, green, blue bands in the SDR data\n",
    "rgbVis = {'min': 0, 'max': 255, 'gamma': 0.8} # This sets a nice range of values for mapping the RGB data\n",
    "\n",
    "\n",
    "collection = ee.ImageCollection('projects/neon-prod-earthengine/assets/DP3-30006-001')\n",
    "mosaic = collection.filterDate('2019-01-01', '2019-12-31').mosaic()\n",
    "print(mosaic.projection())\n",
    "\n",
    "\n",
    "# Second way to do it: Function to get projection and metadata info for a specific band\n",
    "def print_band_info(image, band_name):\n",
    "    band = image.select(band_name)\n",
    "    projection_info = band.projection().getInfo()\n",
    "    metadata_info = band.getInfo()\n",
    "\n",
    "    print(f\"Projection Information for {band_name}: {projection_info}\")\n",
    "    print(f\"Metadata Information for {band_name}: {metadata_info}\")\n",
    "    print(\"\\n\")\n",
    "\n",
    "# Print projection and metadata info for bands B053, B035, B019\n",
    "bands = ['B053', 'B035', 'B019']\n",
    "for band in bands:\n",
    "    print_band_info(SOAP_2019_sdr, band)\n",
    "\n"
   ]
  },
  {
   "cell_type": "code",
   "execution_count": null,
   "metadata": {
    "id": "ZCmanSyiv5E6"
   },
   "outputs": [],
   "source": [
    "############Getting information about metadata and how the data were collected###########\n",
    "# Get a list of all metadata properties for SOAP_2019_rgb.\n",
    "properties = SOAP_2019_rgb.propertyNames()\n",
    "display('Metadata properties for SOAP_2019_rgb:', properties)  # ee.List of metadata properties\n",
    "print('Metadata properties for SOAP_2019_sdr:', properties.getInfo())\n",
    "\n",
    "\n",
    "display('All metadata:', SOAP_2019_rgb)\n",
    "display('All metadata:', SOAP_2019_sdr)"
   ]
  },
  {
   "cell_type": "markdown",
   "metadata": {
    "id": "deP-ml4U1E-z"
   },
   "source": [
    "#Find resolution information by following link in properties section \"NEON_DATA_PROD_URL: https://data.neonscience.org/data-products/DP3.30010.001\""
   ]
  },
  {
   "cell_type": "markdown",
   "metadata": {
    "id": "OeomVEiDzJ8h"
   },
   "source": [
    "\n",
    "#Question 3: Codes added\n",
    "\n",
    "\n"
   ]
  },
  {
   "cell_type": "code",
   "execution_count": null,
   "metadata": {
    "id": "Z0AhuDStG-9c"
   },
   "outputs": [],
   "source": [
    "#1.3 [Getting Metadata](https://developers.google.com/earth-engine/guides/image_info)\n",
    "\n",
    "\n",
    "# Load an image.\n",
    "image = ee.Image('LANDSAT/LC08/C02/T1/LC08_044034_20140318')\n",
    "\n",
    "# All metadata.\n",
    "display('All metadata:', image)\n",
    "\n",
    "# Get information about the bands as a list.\n",
    "band_names = image.bandNames()\n",
    "display('Band names:', band_names)  # ee.List of band names\n",
    "\n",
    "# Get projection information from band 1.\n",
    "b1_proj = image.select('B1').projection()\n",
    "display('Band 1 projection:', b1_proj)  # ee.Projection object\n",
    "\n",
    "# Get scale (in meters) information from band 1.\n",
    "b1_scale = image.select('B1').projection().nominalScale()\n",
    "display('Band 1 scale:', b1_scale)  # ee.Number\n",
    "\n",
    "# Note that different bands can have different projections and scale.\n",
    "b8_scale = image.select('B8').projection().nominalScale()\n",
    "display('Band 8 scale:', b8_scale)  # ee.Number\n",
    "\n",
    "# Get a list of all metadata properties.\n",
    "properties = image.propertyNames()\n",
    "display('Metadata properties:', properties)  # ee.List of metadata properties\n",
    "\n",
    "# Get a specific metadata property.\n",
    "cloudiness = image.get('CLOUD_COVER')\n",
    "display('CLOUD_COVER:', cloudiness)  # ee.Number\n",
    "\n",
    "# Get version number (ingestion timestamp as microseconds since Unix epoch).\n",
    "version = image.get('system:version')\n",
    "display('Version:', version)  # ee.Number\n",
    "display(\n",
    "    'Version (as ingestion date):',\n",
    "    ee.Date(ee.Number(version).divide(1000)).format(),\n",
    ")  # ee.Date\n",
    "\n",
    "# Get the timestamp.\n",
    "ee_date = ee.Date(image.get('system:time_start'))\n",
    "display('Timestamp:', ee_date)  # ee.Date\n",
    "\n",
    "# Date objects transferred to the client are milliseconds since UNIX epoch;\n",
    "# convert to human readable date with ee.Date.format().\n",
    "display('Datetime:', ee_date.format())  # ISO standard date string"
   ]
  },
  {
   "cell_type": "markdown",
   "metadata": {
    "id": "Dd3Bx2uvHVuv"
   },
   "source": [
    "[ImageCollection Information and Metadata](https://developers.google.com/earth-engine/guides/ic_info)"
   ]
  },
  {
   "cell_type": "code",
   "execution_count": null,
   "metadata": {
    "id": "_-N7IMeiG2tW"
   },
   "outputs": [],
   "source": [
    "# Load a Landsat 8 ImageCollection for a single path-row.\n",
    "collection = (\n",
    "    ee.ImageCollection('LANDSAT/LC08/C02/T1_TOA')\n",
    "    .filter(ee.Filter.eq('WRS_PATH', 44))\n",
    "    .filter(ee.Filter.eq('WRS_ROW', 34))\n",
    "    .filterDate('2014-03-01', '2014-08-01')\n",
    ")\n",
    "display('Collection:', collection)\n",
    "\n",
    "# Get the number of images.\n",
    "count = collection.size()\n",
    "display('Count:', count)\n",
    "\n",
    "# Get the date range of images in the collection.\n",
    "range = collection.reduceColumns(ee.Reducer.minMax(), ['system:time_start'])\n",
    "display('Date range:', ee.Date(range.get('min')), ee.Date(range.get('max')))\n",
    "\n",
    "# Get statistics for a property of the images in the collection.\n",
    "sun_stats = collection.aggregate_stats('SUN_ELEVATION')\n",
    "display('Sun elevation statistics:', sun_stats)\n",
    "\n",
    "# Sort by a cloud cover property, get the least cloudy image.\n",
    "image = ee.Image(collection.sort('CLOUD_COVER').first())\n",
    "display('Least cloudy image:', image)\n",
    "\n",
    "# Limit the collection to the 10 most recent images.\n",
    "recent = collection.sort('system:time_start', False).limit(10)\n",
    "display('Recent images:', recent)"
   ]
  },
  {
   "cell_type": "code",
   "execution_count": null,
   "metadata": {
    "id": "feDi33-uH9fy"
   },
   "outputs": [],
   "source": [
    "1.2 Projection Information for B053: {'type': 'Projection', 'crs': 'EPSG:32611', 'transform': [1, 0, 292000, 0, -1, 4110000]}\n",
    "\n",
    "Code (below):"
   ]
  },
  {
   "cell_type": "code",
   "execution_count": null,
   "metadata": {
    "id": "mEAgXcQzur8H"
   },
   "outputs": [],
   "source": [
    "#Raster Vector Conversion\n",
    "# Load a Japan boundary from the Large Scale International Boundary dataset.\n",
    "japan = ee.FeatureCollection('USDOS/LSIB_SIMPLE/2017') \\\n",
    "  .filter(ee.Filter.eq('country_na', 'Japan'))\n",
    "\n",
    "# Load a 2012 nightlights image, clipped to the Japan border.\n",
    "nl2012 = ee.Image('NOAA/DMSP-OLS/NIGHTTIME_LIGHTS/F182012') \\\n",
    "  .select('stable_lights') \\\n",
    "  .clipToCollection(japan)\n",
    "\n",
    "# Define arbitrary thresholds on the 6-bit nightlights image.\n",
    "zones = nl2012.gt(30).add(nl2012.gt(55)).add(nl2012.gt(62))\n",
    "zones = zones.updateMask(zones.neq(0))\n",
    "\n",
    "# Convert the zones of the thresholded nightlights to vectors.\n",
    "vectors = zones.addBands(nl2012).reduceToVectors(**{\n",
    "  'geometry': japan,\n",
    "  'crs': nl2012.projection(),\n",
    "  'scale': 1000,\n",
    "  'geometryType': 'polygon',\n",
    "  'eightConnected': False,\n",
    "  'labelProperty': 'zone',\n",
    "  'reducer': ee.Reducer.mean()\n",
    "})\n",
    "\n",
    "# Display the thresholds.\n",
    "m.setCenter(139.6225, 35.712, 9)\n",
    "m.addLayer(zones, {'min': 1, 'max': 3, 'palette': ['0000FF', '00FF00', 'FF0000']}, 'raster')\n",
    "\n",
    "# Make a display image for the vectors, add it to the map.\n",
    "display = ee.Image(0).updateMask(0).paint(vectors, '000000', 3)\n",
    "m.addLayer(display, {'palette': '000000'}, 'vectors')"
   ]
  },
  {
   "cell_type": "markdown",
   "metadata": {
    "id": "vBxSl7Yye9PE"
   },
   "source": [
    "\n",
    "\n",
    "---\n",
    "\n"
   ]
  },
  {
   "cell_type": "markdown",
   "metadata": {
    "id": "MoV_Foj7vaTz"
   },
   "source": [
    "**Start Running Code From Here** ✅"
   ]
  },
  {
   "cell_type": "markdown",
   "metadata": {
    "id": "YApeTnjq-ykH"
   },
   "source": [
    "### Grouping pixels by land cover type\n",
    "\n",
    "In this section, we'll group pixels by landcover type, and then plot the average spectral signature for each landcover type. We'll be using the GEE function reduceRegion to get the average value for each band by landcover type.\n",
    "\n",
    "This project was inpsired by the following NEON Tutorial: [Spectral signatures by NDVI threshold in Python](https://www.neonscience.org/resources/learning-hub/tutorials/calc-refl-ndvi-py). Check it out (or any of their other awesome tutorials!) to learn more!\n"
   ]
  },
  {
   "cell_type": "markdown",
   "metadata": {
    "id": "raY1D2ptxePD"
   },
   "source": []
  },
  {
   "cell_type": "code",
   "execution_count": null,
   "metadata": {
    "id": "w_pBUMLZ_Iwc"
   },
   "outputs": [],
   "source": [
    "import ee\n",
    "import geemap\n",
    "import geemap.colormaps as cm\n",
    "ee.Authenticate()\n",
    "ee.Initialize(project='238308207130')\n",
    "geemap.ee_initialize(project='238308207130')"
   ]
  },
  {
   "cell_type": "code",
   "execution_count": null,
   "metadata": {
    "id": "uftYSXte-rvy"
   },
   "outputs": [],
   "source": [
    "# Import SOAP data\n",
    "aopSDR = ee.ImageCollection('projects/neon-prod-earthengine/assets/DP3-30006-001')\n",
    "SOAP_2019_sdr = aopSDR \\\n",
    "  .filterDate('2019-01-01', '2019-12-31') \\\n",
    "  .filterMetadata('NEON_SITE', 'equals', 'SOAP') \\\n",
    "  .first()\n",
    "\n",
    "# Function to get projection and metadata info for a specific band\n",
    "def print_band_info(image, band_name):\n",
    "    band = image.select(band_name)\n",
    "    projection_info = band.projection().getInfo()\n",
    "    metadata_info = band.getInfo()\n",
    "\n",
    "    print(f\"Projection Information for {band_name}: {projection_info}\")\n",
    "    print(f\"Metadata Information for {band_name}: {metadata_info}\")\n",
    "    print(\"\\n\")\n",
    "\n",
    "# Print projection and metadata info for bands B053, B035, B019\n",
    "bands = ['B053', 'B035', 'B019']\n",
    "for band in bands:\n",
    "    print_band_info(SOAP_2019_sdr, band)\n",
    "\n",
    "aopRGB = ee.ImageCollection('projects/neon-prod-earthengine/assets/DP3-30010-001')\n",
    "SOAP_2019_rgb = aopRGB \\\n",
    "  .filterDate('2019-01-01', '2019-12-31') \\\n",
    "  .filterMetadata('NEON_SITE', 'equals', 'SOAP') \\\n",
    "  .first()\n",
    "\n",
    "\n",
    "# Create our region of interest (ROI)\n",
    "full_mask = ee.Image.constant(1).clip(SOAP_2019_sdr.geometry()) \\\n",
    "                .updateMask(SOAP_2019_sdr.select(['B001']).mask()) \\\n",
    "                .reduceToVectors(maxPixels=1e13, scale=100)\n",
    "ROI = full_mask.geometry().buffer(-30)\n",
    "\n",
    "# Import NLCD data, clip to SOAP\n",
    "NLCD = ee.ImageCollection(\"USGS/NLCD_RELEASES/2021_REL/NLCD\") \\\n",
    "          .filterBounds(ROI) \\\n",
    "          .first() \\\n",
    "          .clip(ROI)\n",
    "# Set up visualization params\n",
    "RGB_bands = ['B053', 'B035', 'B019'] # These are the band names for the red, green, blue bands in the SDR data\n",
    "rgbVis = {'min': 0, 'max': 255, 'gamma': 0.8} # This sets a nice range of values for mapping the RGB data"
   ]
  },
  {
   "cell_type": "code",
   "execution_count": null,
   "metadata": {
    "id": "myq9XO0HAdYv"
   },
   "outputs": [],
   "source": [
    "# View NLCD data for SOAP\n",
    "m = geemap.Map()\n",
    "m.addLayer(SOAP_2019_rgb, rgbVis, 'SOAP 2019 RGB')\n",
    "m.addLayer(NLCD.select('landcover'), None, 'landcover')\n",
    "m.centerObject(ROI, 10)\n",
    "m"
   ]
  },
  {
   "cell_type": "code",
   "execution_count": null,
   "metadata": {
    "id": "4dZXNjpi_QkR"
   },
   "outputs": [],
   "source": [
    "import numpy as np    # import additional packages for dataframe manipulation, plotting in python\n",
    "import pandas as pd\n",
    "import seaborn as sns\n",
    "\n",
    "# Select the WL_FWHM_B*** band properties (using regex)\n",
    "properties = SOAP_2019_sdr.toDictionary()\n",
    "wl_fwhm_dict = properties.select(['WL_FWHM_B+\\d{3}'])\n",
    "\n",
    "# Pull out the wavelength, fwhm values to a list\n",
    "wl_fwhm_list = wl_fwhm_dict.values()\n",
    "\n",
    "# Function to pull out the wavelength values only and convert the string to float\n",
    "def get_wavelengths(x):\n",
    "  str_split = ee.String(x).split(',')\n",
    "  first_elem = ee.Number.parse((str_split.get(0)))\n",
    "  return first_elem\n",
    "\n",
    "# apply the function to the wavelength full-width-half-max list\n",
    "wavelengths = wl_fwhm_list.map(get_wavelengths)\n",
    "\n",
    "# Set up some additional lists and dictionaries that will allow us to nicely print the wavelength values in nanometers, and use the NLCD color palette\n",
    "wavelengthsL = np.array(wavelengths.getInfo()).astype('str')  # get a list of wavelengths measured in the SDR data\n",
    "\n",
    "palette = ee.List(NLCD.get(\"landcover_class_palette\")).getInfo()  # Get the color palette, landcover code values, landcover names from NLCD\n",
    "values = ee.List(NLCD.get(\"landcover_class_values\")).getInfo()\n",
    "names =  ee.List(NLCD.get(\"landcover_class_names\")).map(lambda s: ee.String(s).slice(0, ee.String(s).index(':'))).getInfo()\n",
    "\n",
    "\n",
    "nlcd_dict = {values[i]: names[i] for i in range(16)}  # create a dictionary linking the landcover names and lancover codes\n",
    "palette = ['#'+s.upper() for s in palette]  # convert palette values to hex format\n",
    "colDict = dict(zip(names, palette))         # create dict of landcover_names to colors"
   ]
  },
  {
   "cell_type": "code",
   "execution_count": null,
   "metadata": {
    "id": "OPlagRmd_S96"
   },
   "outputs": [],
   "source": [
    "## Get the average reflectance value for each wavelength, for each vegetation type\n",
    "\n",
    "# Set up for input to reduceRegion\n",
    "SOAP_2019_toReduce = SOAP_2019_sdr.select('B.*') # just select the wavelength bands\n",
    "lcbandNum = SOAP_2019_toReduce.bandNames().length() # calculate the number of bands to reduce\n",
    "\n",
    "# Apply reduceRegion to the SDR data with landcover\n",
    "means = SOAP_2019_toReduce.addBands(NLCD.select('landcover')).reduceRegion(\n",
    "  reducer=ee.Reducer.mean().repeat(lcbandNum).group(groupField=lcbandNum, groupName='landcover'),\n",
    "  geometry=ROI,\n",
    "  scale=30,\n",
    "  maxPixels=1e13)"
   ]
  },
  {
   "cell_type": "code",
   "execution_count": null,
   "metadata": {
    "id": "pLF6uduQ_Uwe"
   },
   "outputs": [],
   "source": [
    "# Create a pandas dataframe from a featureCollection created using the output of reduceRegions\n",
    "reformatted_means = ee.FeatureCollection(ee.List(means.get('groups')).map(lambda obj: ee.Feature(None, obj)))\n",
    "lc_wv_df = geemap.ee_to_df(reformatted_means)\n",
    "lc_wv_df"
   ]
  },
  {
   "cell_type": "code",
   "execution_count": null,
   "metadata": {
    "id": "bXjA8O9R_W5a"
   },
   "outputs": [],
   "source": [
    "# Clean up the pandas dataframe for plotting\n",
    "lc_wv_df['landcover_name'] = lc_wv_df['landcover'].transform(lambda x: nlcd_dict[x])  # create a landcover name column\n",
    "lc_wv_df[wavelengthsL] = pd.DataFrame(lc_wv_df['mean'].tolist()) # expand the \"mean\" column into 400+ columns (1 column per wavelength)\n",
    "\n",
    "# Create a pandas dataframe with the columns landcover_name, wavelength, reflectance for plotting\n",
    "df = pd.melt(lc_wv_df,\n",
    "             id_vars=['landcover_name'],\n",
    "             value_vars=wavelengthsL,\n",
    "             var_name='wavelength (nm)',\n",
    "             value_name='reflectance') \\\n",
    "        .astype(dtype= {\"landcover_name\":\"str\",\n",
    "                        \"wavelength (nm)\":\"float64\",\n",
    "                        \"reflectance\":\"float64\"})\n",
    "df"
   ]
  },
  {
   "cell_type": "code",
   "execution_count": null,
   "metadata": {
    "id": "DE9iU-YB_Y15"
   },
   "outputs": [],
   "source": [
    "# Plot spectra by landcover type\n",
    "ax = sns.lineplot(data=df, x=\"wavelength (nm)\", y=\"reflectance\", hue=\"landcover_name\", palette=colDict)\n",
    "sns.move_legend(ax, \"upper left\", bbox_to_anchor=(1, 1))\n"
   ]
  },
  {
   "cell_type": "markdown",
   "metadata": {
    "id": "e5Gg0IAXe-3i"
   },
   "source": [
    "\n",
    "\n",
    "---\n",
    "\n"
   ]
  },
  {
   "cell_type": "markdown",
   "metadata": {
    "id": "9P1rrRp09KDV"
   },
   "source": [
    "Joining species ID data with land cover type data. --- Not finished\n",
    "\n",
    "\n",
    "```\n",
    "#Mounting Drive\n",
    "from google.colab import drive\n",
    "\n",
    "# This will prompt for authorization.\n",
    "drive.mount('/content/drive')\n",
    "\n",
    "#Import Plant Foliar traits data:\n",
    "!unzip \"/content/drive/MyDrive/Colab Notebooks/NEON_traits-foliar.zip\"\n",
    "```\n",
    "Possible steps after that:\n",
    "\n",
    "- Read the CSV using pandas\n",
    "- See attributes and see if there is a similar attribute between layers, if not, create a new attribute for land cover.\n",
    "- To then be able to join the ID data with land cover types.\n",
    "\n",
    "Example of these can be found in this [paper](https://academic.oup.com/ee/advance-article-abstract/doi/10.1093/ee/nvac073/6731819 ).\n",
    "\n",
    "\n"
   ]
  },
  {
   "cell_type": "markdown",
   "metadata": {
    "id": "3007c680"
   },
   "source": [
    "## Additional Resources\n",
    "\n",
    "* **End-to-End Google Earth Engine**: If you'd like to continue exploring the Earth Engine processes and applications, <a href=\"https://courses.spatialthoughts.com/end-to-end-gee.html#automatic-conversion-of-javascript-code-to-python\" target=\"_blank\"> SpatialThoughts Course - Ujaval Gandhi </a> has some nice examples you can follow.\n",
    "\n"
   ]
  }
 ],
 "metadata": {
  "colab": {
   "provenance": []
  },
  "kernelspec": {
   "display_name": "Python 3",
   "name": "python3"
  },
  "language_info": {
   "name": "python"
  }
 },
 "nbformat": 4,
 "nbformat_minor": 0
}