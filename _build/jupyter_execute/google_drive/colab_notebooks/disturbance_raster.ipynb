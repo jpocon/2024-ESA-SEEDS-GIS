{
 "cells": [
  {
   "cell_type": "markdown",
   "metadata": {
    "id": "OOOsqwESbbp-"
   },
   "source": [
    "## **Mapping Fire Impacts - Raster-based**\n",
    "\n",
    "#### Reflection exercises for each group:\n",
    "\n",
    "1. At the top of the Colab notebook that you share with everyone, please include your responses to the following questions:\n",
    "  - Choose at least 1 dataset to explore in more detail.\n",
    "  - What is the projection for this dataset?\n",
    "  - Where can you find more information on how the data were collected and how to interpret the metadata?\n",
    "  - Think about what data type each variable is.\n",
    "  - Is it vector or raster data? What properties exist for each dataset?\n",
    "  - What resolution are your data?\n",
    "\n",
    "2. At the top of the Colab notebook, write a short summary detailing the processing steps in the notebook and your results.\n",
    "  - Although these topics may be far removed from your own interests, how could these steps and analyses help in your own work?\n",
    "\n",
    "3. OPTIONAL - Expand your script by adding additional processing, analysis, or other data.\n",
    "\n",
    "As you're working through your exercise, **add code chunks to further document your scripts. Add additional comments to the code itself to clarify complicated processes.**\n"
   ]
  },
  {
   "cell_type": "markdown",
   "metadata": {
    "id": "2YWulsb2e7fT"
   },
   "source": [
    "\n",
    "\n",
    "---\n",
    "\n"
   ]
  },
  {
   "cell_type": "markdown",
   "metadata": {
    "id": "L1pvZE4b7T2B"
   },
   "source": [
    "#### Acknowledgement\n",
    "\n",
    "The code and comments for this project were adpated from NEON in [this tutorial](https://www.neonscience.org/resources/learning-hub/tutorials/intro-aop-data-google-earth-engine-tutorial-series#toggle-36). Check it out (or any of their other awesome tutorials!) to learn more!\n",
    "\n",
    "### Objectives\n",
    "\n",
    "In this first section, we'll explore the Soaproot Saddle NEON site in California before and after a 2020 burn. We'll map the reflectance data, RGB data, and difference in normalized burn ratio (dNBR)."
   ]
  },
  {
   "cell_type": "markdown",
   "metadata": {
    "id": "BMisMePEKDXE"
   },
   "source": [
    "<div id=\"ds-objectives\" markdown=\"1\">\n",
    "\n",
    "### Background\n",
    "\n",
    "The **Creek Fire** was a large wildfire that started in September 2020 in the Sierra National Forest, California and became one of the largest fires of the [2020 California wildfire season](https://en.wikipedia.org/wiki/2020_California_wildfires). This fire had burned into NEON's [Soaproot Saddle (SOAP)](https://www.neonscience.org/field-sites/soap) site by mid-September, causing a [high intensity burn over much of the site](https://www.neonscience.org/impact/observatory-blog/domain-digest-no-4-fire-field-sites-and-recovery) - standing trees became charcoal spires, shrubs and their root systems burned completely, the thick litter layer was incinerated, and the soil severely burned.\n",
    "\n",
    "The NEON Airborne Observation Platform (AOP) conducted aerial surveys over SOAP in 2019 and 2021, a year before and after the Creek Fire."
   ]
  },
  {
   "cell_type": "markdown",
   "metadata": {
    "id": "xLiE0xNu-bHP"
   },
   "source": [
    "In our introduction to AOP data, we learned how to calculate NDVI. Another common vegetation index is NBR, the normalized burn ratio. NBR is commonly used to asses burn severity. NBR is calculated as: <br>\n",
    "> NBR = (NIR – SWIR) / (NIR + SWIR)\n",
    "\n",
    "<img src='https://drive.google.com/uc?export=view&id=1zUP9oDdeQdiyQGL-2Vh1aqz8QCy03XPR' width=400> Image credit: [NASA ARSET Training Materials](https://appliedsciences.nasa.gov/sites/default/files/ChangeDetection_S1.pdf)\n",
    "\n",
    "\n",
    "Then, dNBR is the difference in NBR, which is calcualted as <br>\n",
    "> dNBR = prefire NBR - postfire NBR\n",
    "\n",
    "The USGS proposes the following categories based on dNBR:<br>\n",
    "<img src='https://drive.google.com/uc?export=view&id=1firJsT-ON56_LYII9MErCw1UC6V8Y3QD' width=600>Image credit: [Earth Lab](https://www.earthdatascience.org/courses/earth-analytics/multispectral-remote-sensing-modis/normalized-burn-index-dNBR/)"
   ]
  },
  {
   "cell_type": "code",
   "execution_count": null,
   "metadata": {
    "id": "hpbYbnil8MkG"
   },
   "outputs": [],
   "source": [
    "import ee\n",
    "import geemap\n",
    "import geemap.colormaps as cm\n",
    "ee.Authenticate()\n",
    "ee.Initialize(project='')\n",
    "geemap.ee_initialize(project='')"
   ]
  },
  {
   "cell_type": "code",
   "execution_count": null,
   "metadata": {
    "id": "8bx8Enh-8_91"
   },
   "outputs": [],
   "source": [
    "# Import the AOP surface directional reflectance (SDR)\n",
    "aopSDR = ee.ImageCollection('projects/neon-prod-earthengine/assets/DP3-30006-001')\n",
    "# Import the AOP red-green-blue imagery (RGB)\n",
    "aopRGB = ee.ImageCollection('projects/neon-prod-earthengine/assets/DP3-30010-001')\n",
    "# Import the AOP canopy height model data (CHM)\n",
    "aopCHM = ee.ImageCollection('projects/neon-prod-earthengine/assets/DP3-30015-001')\n",
    "# Import the AOP digital elevation model data (DEM)\n",
    "aopDEM = ee.ImageCollection('projects/neon-prod-earthengine/assets/DP3-30024-001')\n",
    "\n",
    "# Set up visualization params\n",
    "RGB_bands = ['B053', 'B035', 'B019'] # These are the band names for the red, green, blue bands in the SDR data\n",
    "rgbVis = {'min': 0, 'max': 255, 'gamma': 0.8} # This sets a nice range of values for mapping the RGB data\n",
    "sdrVis = {'min': 0, 'max': 1260, 'gamma': 0.8} # This sets a nice range of values for mapping the RGB data"
   ]
  },
  {
   "cell_type": "code",
   "execution_count": null,
   "metadata": {
    "id": "D0DuBAAn7Qla"
   },
   "outputs": [],
   "source": [
    "### Code and comments adpated from NEON at https://www.neonscience.org/resources/learning-hub/tutorials/intro-aop-data-google-earth-engine-tutorial-series#toggle-36\n",
    "'''------------------------- Normalized Difference Burn Ratio ----------------------------\n",
    "The normalized burn ratio (NBR) is a normalized difference index using the shortwave-infrared (SWIR) and near-infrared (NIR) portions of the electromagnetic spectrum.\n",
    "dNBR can be used as a metric to map fire extent and burn severity when calculating the difference between pre and post fire conditions.\n",
    "'''\n",
    "\n",
    "# Import the 2019 and 2021 SOAP data\n",
    "SOAP_2019_sdr = aopSDR \\\n",
    "  .filterDate('2019-01-01', '2019-12-31') \\\n",
    "  .filterMetadata('NEON_SITE', 'equals', 'SOAP') \\\n",
    "  .first()\n",
    "\n",
    "SOAP_2021_sdr = aopSDR \\\n",
    "  .filterDate('2021-01-01', '2021-12-31') \\\n",
    "  .filterMetadata('NEON_SITE', 'equals', 'SOAP') \\\n",
    "  .first()\n",
    "\n",
    "SOAP_2019_rgb = aopRGB \\\n",
    "  .filterDate('2019-01-01', '2019-12-31') \\\n",
    "  .filterMetadata('NEON_SITE', 'equals', 'SOAP') \\\n",
    "  .first()\n",
    "\n",
    "\n",
    "SOAP_2021_rgb = aopRGB \\\n",
    "  .filterDate('2021-01-01', '2021-12-31') \\\n",
    "  .filterMetadata('NEON_SITE', 'equals', 'SOAP') \\\n",
    "  .first()\n",
    "\n",
    "\n",
    "## Create an ROI that talks only the pixels covered by both years + adds -30m buffer\n",
    "full_mask = ee.Image.constant(1).clip(SOAP_2019_sdr.geometry()) \\\n",
    "                .updateMask(SOAP_2019_sdr.select(['B001']).mask()) \\\n",
    "                .updateMask(SOAP_2021_sdr.select(['B001']).mask()) \\\n",
    "                .reduceToVectors(maxPixels=1e13, scale=100)\n",
    "ROI = full_mask.geometry().buffer(-30)\n",
    "\n",
    "# calculate NBR\n",
    "# B097: B365:\n",
    "pre_nbr = SOAP_2019_sdr.normalizedDifference(['B097', 'B365'])\n",
    "post_nbr = SOAP_2021_sdr.normalizedDifference(['B097', 'B365'])\n",
    "\n",
    "# calculate dNBR\n",
    "dNBR = pre_nbr \\\n",
    "        .subtract(post_nbr)\n",
    "\n",
    "# Mapping\n",
    "vis_params = {'min':-1, 'max':1, 'palette':cm.get_palette('RdYlGn_r', n_class=20)}\n",
    "m = geemap.Map()\n",
    "\n",
    "\n",
    "# # add RGB base\n",
    "m.addLayer(SOAP_2019_rgb, rgbVis, 'SOAP 2019 RGB')\n",
    "m.addLayer(SOAP_2021_rgb, rgbVis, 'SOAP 2021 RGB')\n",
    "\n",
    "# # add NBR layers\n",
    "m.addLayer(pre_nbr, vis_params, '2019 Normalized Burn Ratio')\n",
    "m.addLayer(post_nbr, vis_params, '2021 Normalized Burn Ratio')\n",
    "\n",
    "# add dNBR layer\n",
    "m.addLayer(dNBR, vis_params, 'dNBR')\n",
    "\n",
    "m.centerObject(ROI)\n",
    "m"
   ]
  },
  {
   "cell_type": "markdown",
   "metadata": {
    "id": "NgFAQzzk7pPS"
   },
   "source": [
    "# Bringing in vector data (fire exploration)\n",
    "Now, let's compare our map of dNBR with existing fire data. The MTBS (Monitoring Trends in Burn Severity) data product is already publicly available on GEE.\n",
    "\n",
    "In the next code chunk, we'll inspect 1 feature (representing a fire polygon) from MTBS. We extract the feature of interested by filtering the MTBS FeatureCollection to our area of interest and the year 2020."
   ]
  },
  {
   "cell_type": "code",
   "execution_count": null,
   "metadata": {
    "id": "i1t5NNPn7nj4"
   },
   "outputs": [],
   "source": [
    "MTBS = ee.FeatureCollection(\"USFS/GTAC/MTBS/burned_area_boundaries/v1\") \\\n",
    "              .filterBounds(SOAP_2021_sdr.geometry()) \\\n",
    "              .map(lambda feat: feat.set('system:time_start', feat.get('Ig_Date'))) \\\n",
    "              .filterDate('2020-01-01', '2021-01-01')\n",
    "MTBS"
   ]
  },
  {
   "cell_type": "markdown",
   "metadata": {
    "id": "ZmLAZUkp7_u8"
   },
   "source": [
    "Now, let's overlay the MTBS data product on our dNBR map."
   ]
  },
  {
   "cell_type": "code",
   "execution_count": null,
   "metadata": {
    "id": "8hs_FocY7-Kf"
   },
   "outputs": [],
   "source": [
    "# Mapping\n",
    "vis_params = {'min':-1, 'max':1, 'palette':cm.get_palette('RdYlGn_r', n_class=20)}\n",
    "m = geemap.Map()\n",
    "\n",
    "\n",
    "# # add RGB base\n",
    "m.addLayer(SOAP_2019_rgb, rgbVis, 'SOAP 2019 RGB')\n",
    "m.addLayer(SOAP_2021_rgb, rgbVis, 'SOAP 2021 RGB')\n",
    "\n",
    "# add dNBR layer\n",
    "m.addLayer(dNBR, vis_params, 'dNBR')\n",
    "\n",
    "# add MTBS layer\n",
    "m.addLayer(MTBS)\n",
    "\n",
    "m.centerObject(ROI)\n",
    "m"
   ]
  },
  {
   "cell_type": "markdown",
   "metadata": {
    "id": "e2Kk7pVz8DV6"
   },
   "source": [
    "Now that we've seen the boundary of the 2020 Creek Fire, let's use the canopy 2019 and 2021 height model (CHM) and the Creek Fire Boundary to see the change in canopy height post-fire at the SOAP site.\n",
    "\n",
    "First, we'll show the distribution of changes in canopy height post-fire for the entire burn region.\n",
    "\n",
    "Then, we'll use dNBR thresholds to estimate \"high severity\" vs \"low severity\" burn regions within the burned area, and plot the distribution of changes in canopy height by estimated severity. <br>\n",
    "*Note: If you're interested in fire severity classifications, MTBS also has a burn severity raster product available on GEE!*"
   ]
  },
  {
   "cell_type": "code",
   "execution_count": null,
   "metadata": {
    "id": "JSWyK6Wg8FY5"
   },
   "outputs": [],
   "source": [
    "# Read in the CHM for 2019 and 2021\n",
    "SOAP_2019_chm = aopCHM \\\n",
    "  .filterDate('2019-01-01', '2019-12-31') \\\n",
    "  .filterMetadata('NEON_SITE', 'equals', 'SOAP') \\\n",
    "  .first()\n",
    "\n",
    "\n",
    "SOAP_2021_chm = aopCHM \\\n",
    "  .filterDate('2021-01-01', '2021-12-31') \\\n",
    "  .filterMetadata('NEON_SITE', 'equals', 'SOAP') \\\n",
    "  .first()\n",
    "\n",
    "# Convert rasterize the MTBS polygon\n",
    "creek_img = MTBS.reduceToImage(properties=['BurnBndAc'], reducer=ee.Reducer.anyNonZero()).clip(ROI).rename('burned')\n",
    "\n",
    "\n",
    "# Calculate the pixel-by-pixel difference in canopy height between 2019 and 2021 for only the area in the Creek fire burn region\n",
    "chm_diff_burned = SOAP_2021_chm.subtract(SOAP_2019_chm) \\\n",
    "                    .updateMask(creek_img.eq(1)) \\\n",
    "                    .sample(region=ROI, scale=30)\n",
    "\n",
    "# Calculate the pixel-by-pixel difference in canopy height between 2019 and 2021 for only the area outside the Creek fire burn region\n",
    "chm_diff_unburned = SOAP_2021_chm.subtract(SOAP_2019_chm) \\\n",
    "                    .updateMask(creek_img.eq(0)) \\\n",
    "                    .sample(region=ROI, scale=30)\n",
    "\n",
    "# Plot difference in CHM\n",
    "import geemap.chart as chart\n",
    "\n",
    "options = {\n",
    "    \"xlabel\": \"Change in canopy height (m)\",\n",
    "    \"ylabel\": \"Pixel count\",\n",
    "    \"colors\": [\"#1d6b99\"],\n",
    "}\n",
    "chart.feature_histogram(chm_diff_burned, 'CHM', title='Change in canopy height post-fire in the Creek Fire boundary', **options)"
   ]
  },
  {
   "cell_type": "code",
   "execution_count": null,
   "metadata": {
    "id": "hP6_xhKC8G71"
   },
   "outputs": [],
   "source": [
    "chart.feature_histogram(chm_diff_unburned, 'CHM', title='Change in canopy height post-fire outside the Creek Fire boundary', **options)"
   ]
  },
  {
   "cell_type": "markdown",
   "metadata": {
    "id": "3007c680"
   },
   "source": [
    "## Additional Resources\n",
    "\n",
    "* **End-to-End Google Earth Engine**: If you'd like to continue exploring the Earth Engine processes and applications, <a href=\"https://courses.spatialthoughts.com/end-to-end-gee.html#automatic-conversion-of-javascript-code-to-python\" target=\"_blank\"> SpatialThoughts Course - Ujaval Gandhi </a> has some nice examples you can follow.\n",
    "\n"
   ]
  }
 ],
 "metadata": {
  "colab": {
   "provenance": []
  },
  "kernelspec": {
   "display_name": "Python 3",
   "name": "python3"
  },
  "language_info": {
   "name": "python"
  }
 },
 "nbformat": 4,
 "nbformat_minor": 0
}