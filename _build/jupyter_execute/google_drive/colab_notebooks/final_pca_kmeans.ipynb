{
 "cells": [
  {
   "cell_type": "markdown",
   "metadata": {
    "id": "OOOsqwESbbp-"
   },
   "source": [
    "## **Principal Component Analysis & Kmeans Clustering**\n",
    "\n",
    "#### Reflection exercises for each group:\n",
    "\n",
    "1. At the top of the Colab notebook that you share with everyone, please include your responses to the following questions:\n",
    "  - Choose at least 1 dataset to explore in more detail.\n",
    "    - We are analyzing SDR (surface directional reflectance) from NEON for the Harvard (HARV) location during 2016.  We're running a principal component analysis to look at surface reflectance clusters based on similarity. And we used the kmeans clustering to group data based different defined clusters.\n",
    "  - What is the projection for this dataset?\n",
    "    - Projected coordinate system is EPSG:32618\n",
    "  - Where can you find more information on how the data were collected and how to interpret the metadata?\n",
    "    - The NEON website has the metadata and other related information\n",
    "  - Think about what data type each variable is.\n",
    "    - Raster\n",
    "  - Is it vector or raster data? What properties exist for each dataset?\n",
    "    - The SDR is raster data. There are 442 properties, including flight year, NEON site, sensor name, all the numbered bands (B001-B26), other bands including and aerosol, cast show, etc.\n",
    "  - What resolution are your data?\n",
    "    - The raw data was 1m in resolution. The code changes the SDR to 300m resolution for processing purposes.\n",
    "2. At the top of the Colab notebook, write a short summary detailing the processing steps in the notebook and your results.\n",
    "\n",
    "  - For the principal component analysis (pca), we used the pca helper function to setup the variables and create relationships necessary to run the pca. We then imported the SDR data and filter it by HARV and 2016. To input the SDR data into the pca, we cleaned up the band data to include only necessary bands and get rid of negative values. We then reduced the spatial (projected to 300m resolution) and spectral resolution (removing every 10th band). Then we ran the pca and create a map visual. In the map, it shows the first three principal components, visualizing them using the RGB spectrum. The colors of the pixels show the similarities between pixels of SDR data. The closer the properties are, the more similar in color they should be.\n",
    "  We also added an interactive option to select pixels in the map and show the surface reflectance. This can be changed to the raw SDR values, but is currently set to the cleaned up band data.\n",
    "  \n",
    "  For the K means clustering, we are grouping the spectral distance between pixels by 3 and 10 clusters. Once again visualized using RGB spectrum.\n",
    "\n",
    "  - Although these topics may be far removed from your own interests, how could these steps and analyses help in your own work?\n",
    "    - Visualization tools are helpful. I could make a PCA to see how similar my sites are using landsat images.\n",
    "    -\n",
    "\n",
    "3. OPTIONAL - Expand your script by adding additional processing, analysis, or other data.\n",
    "\n",
    "As you're working through your exercise, **add code chunks to further document your scripts. Add additional comments to the code itself to clarify complicated processes.**\n"
   ]
  },
  {
   "cell_type": "markdown",
   "metadata": {
    "id": "Ja2tca8ge48L"
   },
   "source": [
    "\n",
    "\n",
    "---\n",
    "\n"
   ]
  },
  {
   "cell_type": "code",
   "execution_count": null,
   "metadata": {
    "id": "H0xGZdVVLsz2"
   },
   "outputs": [],
   "source": [
    "import numpy as np\n",
    "import ee\n",
    "import geemap\n",
    "import geemap.colormaps as cm\n",
    "ee.Authenticate()\n",
    "ee.Initialize(project='ee-seeds-gis')\n",
    "geemap.ee_initialize(project='ee-seeds-gis')"
   ]
  },
  {
   "cell_type": "code",
   "execution_count": null,
   "metadata": {
    "id": "KABXR9uiOp7z"
   },
   "outputs": [],
   "source": [
    "############### PCA Helper Functions (from GEE documentation linked below) ###############\n",
    "# From GEE: https://developers.google.com/earth-engine/guides/arrays_eigen_analysis\n",
    "\n",
    "def get_principal_components(centered, scale, region):\n",
    "  '''INPUTS:\n",
    "  centered: a mean zero image,\n",
    "  scale: int\n",
    "  region: geometry over which to perform analysis\n",
    "  RETURNS:\n",
    "  P-band image, normalized by SD\n",
    "  '''\n",
    "  numBands = centered.bandNames().length()\n",
    "  # Collapse bands into 1D array\n",
    "  arrays = centered.toArray()\n",
    "\n",
    "  # Compute the covariance of the bands within the region.\n",
    "  covar = arrays.reduceRegion(\n",
    "      reducer=ee.Reducer.centeredCovariance(),\n",
    "      geometry=region,\n",
    "      scale=scale,\n",
    "      maxPixels=1e9,\n",
    "  )\n",
    "\n",
    "  # Get the 'array' covariance result and cast to an array.\n",
    "  # This represents the band-to-band covariance within the region.\n",
    "  covar_array = ee.Array(covar.get('array'))\n",
    "\n",
    "  # Perform an eigen analysis and slice apart the values and vectors.\n",
    "  eigens = covar_array.eigen()\n",
    "\n",
    "  # This is a P-length vector of Eigenvalues.\n",
    "  eigen_values = eigens.slice(1, 0, 1)\n",
    "  # This is a PxP matrix with eigenvectors in rows.\n",
    "  eigen_vectors = eigens.slice(1, 1)\n",
    "\n",
    "  # Convert the array image to 2D arrays for matrix computations.\n",
    "  array_image = arrays.toArray(1)\n",
    "\n",
    "  # Left multiply the image array by the matrix of eigenvectors.\n",
    "  principal_components = ee.Image(eigen_vectors).matrixMultiply(array_image)\n",
    "\n",
    "  # Turn the square roots of the Eigenvalues into a P-band image.\n",
    "  sd_image = (\n",
    "      ee.Image(eigen_values.sqrt())\n",
    "      .arrayProject([0])\n",
    "      .arrayFlatten([get_new_band_names('sd', numBands)])\n",
    "  )\n",
    "\n",
    "  # Turn the PCs into a P-band image, normalized by SD.\n",
    "  return (\n",
    "      # Throw out an an unneeded dimension, [[]] -> [].\n",
    "      principal_components.arrayProject([0])\n",
    "      # Make the one band array image a multi-band image, [] -> image.\n",
    "      .arrayFlatten([get_new_band_names('pc', numBands)])\n",
    "      # Normalize the PCs by their SDs.\n",
    "      .divide(sd_image)\n",
    "  )\n",
    "\n",
    "def get_new_band_names(prefix, numBands):\n",
    "  seq = ee.List.sequence(1, numBands)\n",
    "  return seq.map(lambda b: ee.String(prefix).cat(ee.Number(b).int()))\n",
    "\n",
    "def PCA(maskedImage, scale, region):\n",
    "  # image = maskedImage.unmask()\n",
    "  image = maskedImage\n",
    "  bandNames = image.bandNames()\n",
    "\n",
    "  # Mean center the data to enable a faster covariance reducer\n",
    "  # and an SD stretch of the principal components.\n",
    "  meanDict = image.reduceRegion(**{\n",
    "    'reducer': ee.Reducer.mean(),\n",
    "    'geometry': region,\n",
    "    'scale': scale,\n",
    "    'maxPixels': 1e13,\n",
    "    'tileScale': 16\n",
    "  })\n",
    "  means = ee.Image.constant(meanDict.values(bandNames))\n",
    "  centered = image.subtract(means)\n",
    "\n",
    "  return get_principal_components(centered, scale, region)"
   ]
  },
  {
   "cell_type": "code",
   "execution_count": null,
   "metadata": {
    "id": "vZ2Y5ngL0EJD"
   },
   "outputs": [],
   "source": [
    "### Import AOP data ###\n",
    "# Import the AOP surface directional reflectance (SDR)\n",
    "aopSDR = ee.ImageCollection('projects/neon-prod-earthengine/assets/DP3-30006-001')\n",
    "# Import the AOP red-green-blue imagery (RGB)\n",
    "aopRGB = ee.ImageCollection('projects/neon-prod-earthengine/assets/DP3-30010-001')\n",
    "\n",
    "\n",
    "### FOR YOU TO FILL IN ###\n",
    "mySR_data = aopSDR \\\n",
    "  .filterDate('2016-01-01', '2016-12-31') \\\n",
    "  .filterMetadata('NEON_SITE', 'equals', 'HARV') \\\n",
    "  .first()\n",
    "\n",
    "myRGB_data = aopRGB \\\n",
    "  .filterDate('2016-01-01', '2016-12-31') \\\n",
    "  .filterMetadata('NEON_SITE', 'equals', 'HARV') \\\n",
    "  .first()\n",
    "\n",
    "### View your selected AOP data ###\n",
    "# Set up visualization params\n",
    "RGB_bands = ['B053', 'B035', 'B019'] # These are the band names for the red, green, blue bands in the SDR data\n",
    "rgbVis = {'min': 0, 'max': 255, 'gamma': 0.8} # This sets a nice range of values for mapping the RGB data\n",
    "sdrVis = {'min': 0, 'max': 1260, 'gamma': 0.8} # This sets a nice range of values for mapping the RGB data\n",
    "\n",
    "# Map\n",
    "m = geemap.Map()\n",
    "m.addLayer(mySR_data.select(RGB_bands), sdrVis, 'Surface reflectance')\n",
    "m.addLayer(myRGB_data, rgbVis, 'RGB')\n",
    "m.centerObject(myRGB_data, 12)\n",
    "\n",
    "m\n",
    "\n"
   ]
  },
  {
   "cell_type": "code",
   "execution_count": null,
   "metadata": {
    "id": "OVvJXg5FzkkO"
   },
   "outputs": [],
   "source": [
    "############### Process the SDR image for input to PCA ###############\n",
    "### Get a list of valid bands ###\n",
    "# Select the WL_FWHM_B*** band properties (using regex)\n",
    "properties = mySR_data.toDictionary()\n",
    "wl_fwhm_dict = properties.select(['WL_FWHM_B+\\d{3}'])\n",
    "\n",
    "# Function to pull out the wavelength values only and convert the string to float\n",
    "def get_wavelengths(x):\n",
    "  str_split = ee.String(x).split(',')\n",
    "  first_elem = ee.Number.parse((str_split.get(0)))\n",
    "  return first_elem\n",
    "\n",
    "# Function to pull out the band neames only\n",
    "def get_bands(x):\n",
    "  str_split = ee.String(x).split('_')\n",
    "  return str_split.get(-1)\n",
    "\n",
    "# Apply the function to the wavelength full-width-half-max list\n",
    "wavelengths = np.array(wl_fwhm_dict.values().map(get_wavelengths).getInfo())\n",
    "bands = np.array(wl_fwhm_dict.keys().map(get_bands).getInfo())\n",
    "\n",
    "# Create list of bands that are not set to -100\n",
    "# From metadata in SDR images \"Wavelengths between 1340-1445nm and 1790-1955nm are set to -100\"\n",
    "masked_bands_indices = ((wavelengths>=1340) & (wavelengths<=1445)) | ((wavelengths >=1790) & (wavelengths <=1955))\n",
    "valid_bands = bands[~masked_bands_indices]\n",
    "\n",
    "\n",
    "### Create the reduced resolution SDR image for input to PCA ###\n",
    "# Set params\n",
    "SCALE = 300\n",
    "SKIP_BANDS_NUM = 10\n",
    "\n",
    "# Get list of valid bands to select (reducing from 426 bands to ~40)\n",
    "bands_to_select = (\n",
    "    mySR_data.select('B...')   # pull out reflectance bands\n",
    "                  .bandNames().slice(0, -1, SKIP_BANDS_NUM)  # only select every 10th band\n",
    "                  .getInfo()  # convert to python list\n",
    "  )\n",
    "bands_to_select = [b for b in bands_to_select if b in valid_bands] # filter out bad bands\n",
    "\n",
    "# Create a raster where pixels=1 for <10% cloud cover and pixels=0 for >10% cloud cover. This is our mask.\n",
    "clearWeather = mySR_data.select('Weather_Quality_Indicator').eq(1)\n",
    "\n",
    "# Create lower spectral and spatial resolution image for input to PCA\n",
    "mySR_data_coarse =  (\n",
    "    mySR_data\n",
    "          .select(bands_to_select) # This step is critical! If you leave the bad bands, you'll get an image where every pixels is nan!\n",
    "          .reproject(mySR_data.projection().crs(), # reproject to 300m resolution\n",
    "                     scale=SCALE)\n",
    "          # .updateMask(jerc_clearWeather) # Optional\n",
    ")\n",
    "\n",
    "############### Run PCA ###############\n",
    "pc_image = PCA(mySR_data_coarse, SCALE, mySR_data_coarse.geometry())\n",
    "\n",
    "\n",
    "############### Map results ###############\n",
    "RGBish_bands = ['B051', 'B031', 'B021']\n",
    "RGBish_vis = {'bands': RGBish_bands, 'min': 0, 'max': 1700, 'opacity': 1.0, 'gamma': 1.0}\n",
    "\n",
    "m = geemap.Map()\n",
    "m.addLayer(mySR_data_coarse.select(RGBish_bands), RGBish_vis, 'rgb-ish coarse')\n",
    "m.addLayer(mySR_data.select(RGBish_bands), RGBish_vis, 'rgb-ish')\n",
    "m.addLayer(pc_image.select(['pc1', 'pc2', 'pc3']), {'bands': ['pc1', 'pc2', 'pc3'], 'min': -3, 'max': 3, 'opacity': 1.0, 'gamma': 1.0}, 'PCA')\n",
    "m.centerObject(mySR_data, 12)\n",
    "m"
   ]
  },
  {
   "cell_type": "code",
   "execution_count": null,
   "metadata": {
    "id": "yZ2pc5JgFPrL"
   },
   "outputs": [],
   "source": [
    "############### Process the SDR image for input to PCA ###############\n",
    "### Get a list of valid bands ###\n",
    "# Select the WL_FWHM_B*** band properties (using regex)\n",
    "properties = mySR_data.toDictionary()\n",
    "wl_fwhm_dict = properties.select(['WL_FWHM_B+\\d{3}'])\n",
    "\n",
    "# Function to pull out the wavelength values only and convert the string to float\n",
    "def get_wavelengths(x):\n",
    "  str_split = ee.String(x).split(',')\n",
    "  first_elem = ee.Number.parse((str_split.get(0)))\n",
    "  return first_elem\n",
    "\n",
    "# Function to pull out the band neames only\n",
    "def get_bands(x):\n",
    "  str_split = ee.String(x).split('_')\n",
    "  return str_split.get(-1)\n",
    "\n",
    "# Apply the function to the wavelength full-width-half-max list\n",
    "wavelengths = np.array(wl_fwhm_dict.values().map(get_wavelengths).getInfo())\n",
    "bands = np.array(wl_fwhm_dict.keys().map(get_bands).getInfo())\n",
    "\n",
    "# Create list of bands that are not set to -100\n",
    "# From metadata in SDR images \"Wavelengths between 1340-1445nm and 1790-1955nm are set to -100\"\n",
    "masked_bands_indices = ((wavelengths>=1340) & (wavelengths<=1445)) | ((wavelengths >=1790) & (wavelengths <=1955))\n",
    "valid_bands = bands[~masked_bands_indices]\n",
    "\n",
    "\n",
    "### Create the reduced resolution SDR image for input to PCA ###\n",
    "# Set params\n",
    "SCALE = 300\n",
    "SKIP_BANDS_NUM = 10\n",
    "\n",
    "# Get list of valid bands to select (reducing from 426 bands to ~40)\n",
    "bands_to_select = (\n",
    "    mySR_data.select('B...')   # pull out reflectance bands\n",
    "                  .bandNames().slice(0, -1, SKIP_BANDS_NUM)  # only select every 10th band\n",
    "                  .getInfo()  # convert to python list\n",
    "  )\n",
    "bands_to_select = [b for b in bands_to_select if b in valid_bands] # filter out bad bands\n",
    "\n",
    "# Create a raster where pixels=1 for <10% cloud cover and pixels=0 for >10% cloud cover. This is our mask.\n",
    "clearWeather = mySR_data.select('Weather_Quality_Indicator').eq(1)\n",
    "\n",
    "# Create lower spectral and spatial resolution image for input to PCA\n",
    "mySR_data_coarse =  (\n",
    "    mySR_data\n",
    "          .select(bands_to_select) # This step is critical! If you leave the bad bands, you'll get an image where every pixels is nan!\n",
    "          .reproject(mySR_data.projection().crs(), # reproject to 300m resolution\n",
    "                     scale=SCALE)\n",
    "          # .updateMask(jerc_clearWeather) # Optional\n",
    ")\n",
    "\n",
    "############### Run PCA ###############\n",
    "pc_image = PCA(mySR_data_coarse, SCALE, mySR_data_coarse.geometry())\n",
    "\n",
    "\n",
    "############### Map results ###############\n",
    "RGBish_bands = ['B051', 'B031', 'B021']\n",
    "RGBish_vis = {'bands': RGBish_bands, 'min': 0, 'max': 1700, 'opacity': 1.0, 'gamma': 1.0}\n",
    "\n",
    "m = geemap.Map()\n",
    "m.addLayer(mySR_data_coarse.select(RGBish_bands), RGBish_vis, 'rgb-ish coarse')\n",
    "m.addLayer(mySR_data.select(RGBish_bands), RGBish_vis, 'rgb-ish')\n",
    "m.addLayer(pc_image.select(['pc1', 'pc2', 'pc3']), {'bands': ['pc1', 'pc2', 'pc3'], 'min': -3, 'max': 3, 'opacity': 1.0, 'gamma': 1.0}, 'PCA')\n",
    "m.centerObject(mySR_data, 12)\n",
    "\n",
    "\n",
    "############ Add in interactive map to select different pixels ############\n",
    "# from neon.aop.\n",
    "# Select the WL_FWHM_B*** band properties (using regex)\n",
    "properties = mySR_data.toDictionary()\n",
    "wl_fwhm_dict = properties.select(['WL_FWHM_B+\\d{3}'])\n",
    "\n",
    "# Pull out the wavelength, fwhm values to a list\n",
    "wl_fwhm_list = wl_fwhm_dict.values()\n",
    "\n",
    "# Function to pull out the wavelength values only and convert the string to float\n",
    "def get_wavelengths(x):\n",
    "  str_split = ee.String(x).split(',')\n",
    "  first_elem = ee.Number.parse((str_split.get(0)))\n",
    "  return first_elem\n",
    "\n",
    "# apply the function to the wavelength full-width-half-max list\n",
    "wavelengths = wl_fwhm_list.map(get_wavelengths)\n",
    "\n",
    "from ipyleaflet import *\n",
    "from bqplot import pyplot as plt\n",
    "\n",
    "# Set up variables for plotting markers, reflectance\n",
    "x = wavelengths.getInfo()\n",
    "coordinates = []\n",
    "markers = []\n",
    "marker_cluster = MarkerCluster(name=\"Marker Cluster\")\n",
    "m.add_layer(marker_cluster)\n",
    "\n",
    "# Helper function called each time we click a new point\n",
    "def handle_interaction(**kwargs):\n",
    "    latlon = kwargs.get(\"coordinates\")\n",
    "    if kwargs.get(\"type\") == \"click\":\n",
    "      try:\n",
    "        coordinates.append(latlon)\n",
    "        markers.append(Marker(location=latlon))\n",
    "        marker_cluster.markers = markers\n",
    "        xy = ee.Geometry.Point(latlon[::-1])\n",
    "        y = mySR_data.select('B.*').sample(xy, 1).first().toDictionary().values().getInfo()\n",
    "        plt.clear()\n",
    "        plt.plot(x, y)\n",
    "      except:\n",
    "        print('Please click a point inside the box.')\n",
    "\n",
    "m.on_interaction(handle_interaction)\n",
    "\n",
    "figure = plt.figure(\n",
    "    1,\n",
    "    title=\"Reflectance\",\n",
    "    layout={\"height\": \"200px\", \"width\": \"600px\"},\n",
    ")\n",
    "\n",
    "fig_control = WidgetControl(widget=figure, position=\"bottomright\")\n",
    "m.add_control(fig_control)\n",
    "m"
   ]
  },
  {
   "cell_type": "markdown",
   "metadata": {
    "id": "BEmY9a_GJbbg"
   },
   "source": [
    "The clustering code below came from the [Google Earth Engine documentation](https://developers.google.com/earth-engine/guides/clustering), which is an amazing resource! As an **optional extension**, you can check out their example, which uses Landsat data to compare the clusters created with the AOP data to clusters created using Landsat data."
   ]
  },
  {
   "cell_type": "code",
   "execution_count": null,
   "metadata": {
    "id": "-EulEYgxyNsg"
   },
   "outputs": [],
   "source": [
    "# Define a region in which to generate a sample of the input.\n",
    "region = mySR_data.geometry()\n",
    "\n",
    "# Make the training dataset.\n",
    "training = pc_image.select(['pc1', 'pc2', 'pc3']).sample(\n",
    "  region=region,\n",
    "  scale=SCALE,\n",
    "  numPixels=5000\n",
    "  )\n",
    "\n",
    "# Instantiate the clusterer and train it.\n",
    "clusterer_3 = ee.Clusterer.wekaKMeans(3).train(training)\n",
    "clusterer_10 = ee.Clusterer.wekaKMeans(10).train(training)\n",
    "\n",
    "# Cluster the input using the trained clusterer.\n",
    "result_3 = pc_image.select(['pc1', 'pc2', 'pc3']).cluster(clusterer_3)\n",
    "result_10 = pc_image.select(['pc1', 'pc2', 'pc3']).cluster(clusterer_10)\n",
    "\n",
    "\n",
    "# cluster 0 is blue, cluster 1 is green, cluster 2 is orange\n",
    "m = geemap.Map()\n",
    "m.addLayer(region, {}, 'ROI')\n",
    "m.addLayer(mySR_data_coarse.select(RGBish_bands), RGBish_vis, 'rgb-ish coarse')\n",
    "m.addLayer(mySR_data.select(RGBish_bands), RGBish_vis, 'rgb-ish')\n",
    "m.addLayer(result_3.randomVisualizer(), {'bands':['cluster'],'min':0, 'max': 2, 'palette': ['441ABE','19B26E','F27417']}, '3 clusters')\n",
    "m.addLayer(result_10.randomVisualizer(), {}, '10 clusters')\n",
    "m.centerObject(pc_image, 12)\n",
    "\n",
    "m"
   ]
  },
  {
   "cell_type": "markdown",
   "metadata": {
    "id": "rKoOk0dxfDbv"
   },
   "source": [
    "\n",
    "\n",
    "---\n",
    "\n"
   ]
  },
  {
   "cell_type": "markdown",
   "metadata": {
    "id": "3007c680"
   },
   "source": [
    "## Additional Resources\n",
    "\n",
    "* **End-to-End Google Earth Engine**: If you'd like to continue exploring the Earth Engine processes and applications, <a href=\"https://courses.spatialthoughts.com/end-to-end-gee.html#automatic-conversion-of-javascript-code-to-python\" target=\"_blank\"> SpatialThoughts Course - Ujaval Gandhi </a> has some nice examples you can follow.\n",
    "\n",
    "\n",
    "You can further analyze the data using Global Moran's I to identify spatial autocorrelation\n"
   ]
  },
  {
   "cell_type": "markdown",
   "metadata": {
    "id": "oefGXCnS3g7A"
   },
   "source": [
    "What is the projection system used?"
   ]
  },
  {
   "cell_type": "code",
   "execution_count": null,
   "metadata": {
    "id": "BWPPWUDn3j5V"
   },
   "outputs": [],
   "source": [
    "#how to identify the coordinate system\n",
    "mySR_proj = mySR_data.projection().getInfo()\n",
    "print(\"Projection information for mySR_data:\", mySR_proj)"
   ]
  },
  {
   "cell_type": "markdown",
   "metadata": {
    "id": "pcG3rdYe6L4r"
   },
   "source": [
    "What is the data type?"
   ]
  },
  {
   "cell_type": "code",
   "execution_count": null,
   "metadata": {
    "id": "P55slHL46KFw"
   },
   "outputs": [],
   "source": [
    "# Get the data type for all bands in the surface directional reflectance data\n",
    "mySR_dataTypes = mySR_data.bandTypes().getInfo()\n",
    "print(\"Data types for mySR_data bands:\", mySR_dataTypes)\n",
    "\n",
    "# Get the data type for all bands in the red-green-blue imagery\n",
    "myRGB_dataTypes = myRGB_data.bandTypes().getInfo()\n",
    "print(\"Data types for myRGB_data bands:\", myRGB_dataTypes)"
   ]
  },
  {
   "cell_type": "code",
   "execution_count": null,
   "metadata": {
    "id": "CtEHebK89NfC"
   },
   "outputs": [],
   "source": [
    "mySR_data"
   ]
  },
  {
   "cell_type": "code",
   "execution_count": null,
   "metadata": {
    "id": "kwlDnhin8hq0"
   },
   "outputs": [],
   "source": [
    "properties = mySR_data.toDictionary()\n",
    "properties"
   ]
  },
  {
   "cell_type": "markdown",
   "metadata": {
    "id": "VjuIv5Ekofbj"
   },
   "source": [
    "##Optional"
   ]
  },
  {
   "cell_type": "code",
   "execution_count": null,
   "metadata": {
    "id": "3CPduz-tokM0"
   },
   "outputs": [],
   "source": [
    "## Get the average reflectance value for each wavelength, for each landscape/vegetation type\n",
    "\n",
    "# Set up for input to reduceRegion\n",
    "result_3_toReduce = pc_image.select(['pc1', 'pc2', 'pc3']) # just select the wavelength bands\n",
    "lcbandNum = result_3_toReduce.bandNames().length()\n",
    "# Apply reduceRegion to the SDR data with landcover\n",
    "means = result_3_toReduce.addBands(result_3.select('cluster')).reduceRegion(\n",
    "  reducer=ee.Reducer.mean().repeat(lcbandNum).group(groupField=lcbandNum, groupName='cluster'),\n",
    "  geometry= result_3_toReduce.geometry(),\n",
    "  scale=300,\n",
    "  maxPixels=1e13)\n",
    "means"
   ]
  },
  {
   "cell_type": "code",
   "execution_count": null,
   "metadata": {
    "id": "bDAwXiqMowxc"
   },
   "outputs": [],
   "source": [
    "# Create a pandas dataframe from a featureCollection created using the output of reduceRegions\n",
    "reformatted_means = ee.FeatureCollection(ee.List(means.get('groups')).map(lambda obj: ee.Feature(None, obj)))\n",
    "lc_wv_df = geemap.ee_to_df(reformatted_means)\n",
    "lc_wv_df"
   ]
  },
  {
   "cell_type": "code",
   "execution_count": null,
   "metadata": {
    "id": "etLuCELZoz0I"
   },
   "outputs": [],
   "source": [
    "import pandas as pd\n",
    "import numpy as np\n",
    "# Clean up the pandas dataframe for plotting\n",
    "lc_wv_df[['mean_PC1', 'mean_PC2', 'mean_PC3']] = pd.DataFrame(lc_wv_df['mean'].tolist()) # expand the \"mean\" column into 400+ columns (1 column per wavelength)\n",
    "lc_wv_df\n"
   ]
  },
  {
   "cell_type": "code",
   "execution_count": null,
   "metadata": {
    "id": "fcytbdnno7Lz"
   },
   "outputs": [],
   "source": [
    "import matplotlib.pyplot as plt\n",
    "from mpl_toolkits.mplot3d import Axes3D\n",
    "\n",
    "# Convert 'cluster' values to strings\n",
    "lc_wv_df['cluster'] = lc_wv_df['cluster'].astype(str)\n",
    "\n",
    "# Recreate the color map with string keys\n",
    "color_map = {'0': '#441ABE', '1': '#19B26E', '2': '#F27417'}\n",
    "\n",
    "# Apply the color map to the 'cluster' column\n",
    "lc_wv_df['color'] = lc_wv_df['cluster'].map(color_map)\n",
    "\n",
    "x=lc_wv_df.mean_PC1\n",
    "y=lc_wv_df.mean_PC2\n",
    "z=lc_wv_df.mean_PC3\n",
    "colors = lc_wv_df['color']\n",
    "\n",
    "# Create a new figure\n",
    "fig = plt.figure()\n",
    "\n",
    "# Add an axes\n",
    "ax = fig.add_subplot(111, projection='3d')\n",
    "\n",
    "# Scatter plot\n",
    "scatter = ax.scatter(x, y, z, c=colors, marker='o')\n",
    "\n",
    "# Adding labels\n",
    "ax.set_xlabel('X Data')\n",
    "ax.set_ylabel('Y Data')\n",
    "ax.set_zlabel('Z Data')\n",
    "\n",
    "\n",
    "# Show the plot\n",
    "plt.show()"
   ]
  }
 ],
 "metadata": {
  "colab": {
   "provenance": []
  },
  "kernelspec": {
   "display_name": "Python 3",
   "name": "python3"
  },
  "language_info": {
   "name": "python"
  }
 },
 "nbformat": 4,
 "nbformat_minor": 0
}