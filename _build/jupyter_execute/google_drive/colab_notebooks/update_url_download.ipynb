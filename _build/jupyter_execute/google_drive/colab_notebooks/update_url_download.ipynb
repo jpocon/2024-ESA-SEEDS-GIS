{
 "cells": [
  {
   "cell_type": "markdown",
   "metadata": {
    "id": "220cf3cd"
   },
   "source": [
    "# **Download Public Data from URL to Colab**\n",
    "\n",
    "Downloading or uploading files from a cloud server often provides a higher transfer speed compared to a regular server. Google Drive, for instance, is a popular choice for storing files due to its impressive download speed. However, a common challenge is uploading files directly to Google Drive from the Internet.\n",
    "\n",
    "In this guide, we'll explore a solution that enables direct uploads to Google Drive from the Internet. The only prerequisites are a Google account and a few lines of code, which we will discuss in the following sections.\n",
    "\n",
    "### Additional Resources\n",
    "* **[Original Code Source](https://www.geeksforgeeks.org/download-anything-to-google-drive-using-google-colab/)**\n",
    "\n",
    "Feel free to explore further and utilize the powerful features of downloading data to Google Colab in your projects. Happy coding!"
   ]
  },
  {
   "cell_type": "markdown",
   "metadata": {
    "id": "e79ad48a"
   },
   "source": [
    "## Set Up Your Environment"
   ]
  },
  {
   "cell_type": "code",
   "execution_count": null,
   "metadata": {
    "id": "a4o4DtEyXhNp"
   },
   "outputs": [],
   "source": [
    "# Import requests to download from URL\n",
    "import requests\n",
    "\n",
    "# In a Python 3.x Kernel\n",
    "from google.colab import drive\n",
    "\n",
    "# This will prompt for authorization.\n",
    "drive.mount('/content/drive')\n",
    "\n",
    "# Import geopandas to process and visualize vector data\n",
    "import geopandas as gpd\n",
    "\n",
    "# rasterio is not preinstalled in Colab\n",
    "!pip install rasterio\n",
    "\n",
    "# Import rasterio, numpy, & matplotlib to process and visualize raster data\n",
    "import rasterio\n",
    "from rasterio.plot import show\n",
    "import numpy as np\n",
    "import matplotlib.pyplot as plt"
   ]
  },
  {
   "cell_type": "markdown",
   "metadata": {
    "id": "BGi1t2Es84kk"
   },
   "source": [
    "## Download Public Spatial Data\n",
    "\n",
    "#### **You can play with other download examples by using the [USGS National Map Downloader](https://apps.nationalmap.gov/downloader/)**\n",
    "\n",
    "Additional collections of websites offering geospatial data:\n",
    "* [Awesome Geospatial Data Downloads](https://github.com/iamtekson/awesome-geospatial-data-download-sites)\n",
    "* [Free GIS Data](https://freegisdata.rtwilson.com/)"
   ]
  },
  {
   "cell_type": "code",
   "execution_count": null,
   "metadata": {
    "id": "7OUKZgZr7KUJ"
   },
   "outputs": [],
   "source": [
    "# Downloading Vector Data\n",
    "file_url = \"https://tinyurl.com/3msyzfd7\"\n",
    "\n",
    "r = requests.get(file_url, stream = True)\n",
    "with open(\"/content/neon_fire_19.zip\", \"wb\") as file:\n",
    "\tfor block in r.iter_content(chunk_size = 1024):\n",
    "\t\tif block:\n",
    "\t\t\tfile.write(block)\n",
    "\n",
    "!unzip \"/content/neon_fire_19.zip\""
   ]
  },
  {
   "cell_type": "code",
   "execution_count": null,
   "metadata": {
    "id": "d5eSblL1YSDP"
   },
   "outputs": [],
   "source": [
    "# Downloading Raster Data\n",
    "file_url = \"https://tinyurl.com/muab7c5e\"\n",
    "\n",
    "r = requests.get(file_url, stream = True)\n",
    "with open(\"/content/LARIAC-tile.tif\", \"wb\") as file:\n",
    "\tfor block in r.iter_content(chunk_size = 1024):\n",
    "\t\tif block:\n",
    "\t\t\tfile.write(block)"
   ]
  },
  {
   "cell_type": "markdown",
   "metadata": {
    "id": "zFQq1zWY9-8n"
   },
   "source": [
    "## Inspect Your Downloads"
   ]
  },
  {
   "cell_type": "code",
   "execution_count": null,
   "metadata": {
    "id": "-iwsYNJetLgQ"
   },
   "outputs": [],
   "source": [
    "# Inspecting and Visualizing Vector Download\n",
    "\n",
    "# Read in some sample vector data (polygons) from Los Angeles, CA\n",
    "# You may have a different file path\n",
    "data = gpd.read_file('/content/neon_fire_19.shp')\n",
    "\n",
    "# Print a preview of the data, attributes, and data types\n",
    "print(data.head())\n",
    "\n",
    "# Print out the coordinate reference system\n",
    "print(data.crs)\n",
    "\n",
    "# Plot the data as simply as possible to visualize it\n",
    "data.plot()"
   ]
  },
  {
   "cell_type": "code",
   "execution_count": null,
   "metadata": {
    "collapsed": true,
    "id": "rWzucsQ8sCR-"
   },
   "outputs": [],
   "source": [
    "# Visualizing Raster Download\n",
    "\n",
    "# Visualize RGB (or NRG) stack\n",
    "with rasterio.open(\"/content/LARIAC-tile.tif\") as src:\n",
    "    # Read the RGB bands\n",
    "    r = src.read(1)\n",
    "    g = src.read(2)\n",
    "    b = src.read(3)\n",
    "\n",
    "    # Stack bands together as a single numpy array\n",
    "    rgb = np.stack((r, g, b), axis=-1)\n",
    "\n",
    "    # Show the RGB image\n",
    "    plt.imshow(rgb)\n",
    "    plt.axis('off')\n",
    "    plt.show()"
   ]
  }
 ],
 "metadata": {
  "colab": {
   "provenance": []
  },
  "kernelspec": {
   "display_name": "Python 3",
   "name": "python3"
  },
  "language_info": {
   "name": "python"
  }
 },
 "nbformat": 4,
 "nbformat_minor": 0
}