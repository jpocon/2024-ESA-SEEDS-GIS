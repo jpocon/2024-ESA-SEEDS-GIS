{
 "cells": [
  {
   "cell_type": "markdown",
   "id": "sHvaIpDOA2dz",
   "metadata": {
    "id": "sHvaIpDOA2dz"
   },
   "source": [
    "# Getting Started with Google Tools for GIS and Ecological Applications\n",
    "\n",
    "Welcome to this guide on setting up essential Google tools for GIS and ecological applications. In this notebook, we will walk you through the steps to set up a Gmail account, a Google Earth Engine account, and get started with Google Colaboratory. Let's get started!"
   ]
  },
  {
   "cell_type": "markdown",
   "id": "kaAhGHizA2d6",
   "metadata": {
    "id": "kaAhGHizA2d6"
   },
   "source": [
    "## 1. Setting up a Gmail Account\n",
    "\n",
    "A Gmail account is essential for accessing various Google services, including Google Earth Engine and Google Colaboratory. Follow these steps to create your Gmail account:\n",
    "\n",
    "1. **Go to the Gmail website**: Open your web browser and go to [Gmail](https://mail.google.com/).\n",
    "2. **Click on 'Create account'**: You will see an option to create a new account. Click on it.\n",
    "3. **Fill in your details**: Enter your first name, last name, desired email address, and a strong password.\n",
    "4. **Verify your phone number**: Google will ask for your phone number to verify your identity. Enter your phone number and follow the prompts.\n",
    "5. **Complete the setup**: Follow the remaining instructions to complete your profile. This includes adding a recovery email, setting up security questions, and agreeing to Google's terms and conditions.\n",
    "\n",
    "Congratulations! You now have a Gmail account."
   ]
  },
  {
   "cell_type": "markdown",
   "id": "Eh0Y6KNUA2d8",
   "metadata": {
    "id": "Eh0Y6KNUA2d8"
   },
   "source": [
    "## 2. Setting up a Google Earth Engine Account\n",
    "\n",
    "Google Earth Engine (GEE) is a powerful tool for analyzing geospatial data. Here’s how you can set up your GEE account:\n",
    "\n",
    "1. **Go to the Google Earth Engine website**: Open your browser and go to [Google Earth Engine](https://earthengine.google.com/).\n",
    "2. **Sign in with your Gmail account**: Click on the 'Sign In' button and log in with the Gmail account you created earlier.\n",
    "3. **Request access**: After signing in, you will see an option to request access. Fill out the form with your information and the reason you want to use GEE. Mention any relevant academic or research projects.\n",
    "4. **Wait for approval**: Google typically takes a few days to review and approve your request, but you may have access immediately. You will receive an email once your access is granted. If you don't receive a confirmation by this afternoon, we can still walk through our GEE intro -- it may just be a little less engaging.\n",
    "\n",
    "Now you have access to Google Earth Engine and can start analyzing geospatial data!"
   ]
  },
  {
   "cell_type": "markdown",
   "id": "TK0-pX1eA2d_",
   "metadata": {
    "id": "TK0-pX1eA2d_"
   },
   "source": [
    "## 3. Getting Started with Google Colaboratory\n",
    "\n",
    "Google Colaboratory, or Colab, is a free Jupyter notebook environment that runs in the cloud. It is perfect for data analysis and machine learning tasks. Here’s how to get started:\n",
    "\n",
    "1. **Open Google Colab**: In your browser, go to [Google Colaboratory](https://colab.research.google.com/).\n",
    "2. **Sign in with your Gmail account**: If you are not already signed in, use your Gmail credentials to log in.\n",
    "3. **Create a new notebook**: Click on 'File' > 'New Notebook'. This will create a new Jupyter notebook where you can write and run Python code.\n",
    "4. **Understand the interface**: Take a moment to familiarize yourself with the Colab interface. You can write text in Markdown cells and code in Code cells. To run a cell, press Shift + Enter.\n",
    "\n",
    "Here's a simple example to get you started:\n"
   ]
  },
  {
   "cell_type": "code",
   "execution_count": 1,
   "id": "1Tu7WiX6A2eB",
   "metadata": {
    "id": "1Tu7WiX6A2eB"
   },
   "outputs": [
    {
     "data": {
      "image/png": "[encoded data removed]",
      "text/plain": [
       "<Figure size 432x288 with 1 Axes>"
      ]
     },
     "metadata": {
      "needs_background": "light"
     },
     "output_type": "display_data"
    }
   ],
   "source": [
    "# This is a simple Python code example in Colab\n",
    "import numpy as np\n",
    "import matplotlib.pyplot as plt\n",
    "\n",
    "# Generate some random data\n",
    "data = np.random.randn(1000)\n",
    "\n",
    "# Create a histogram\n",
    "plt.hist(data, bins=30, edgecolor='k')\n",
    "plt.xlabel('Value')\n",
    "plt.ylabel('Frequency')\n",
    "plt.title('Histogram of Random Data')\n",
    "plt.show()"
   ]
  },
  {
   "cell_type": "markdown",
   "id": "MgeLa5lsA2eE",
   "metadata": {
    "id": "MgeLa5lsA2eE"
   },
   "source": [
    "Run the above cell by clicking on the play button or pressing Shift + Enter. You should see a histogram of random data generated by NumPy and plotted using Matplotlib.\n",
    "\n",
    "For more detailed tutorials and examples, check out the [Colab documentation](https://colab.research.google.com/notebooks/welcome.ipynb)."
   ]
  },
  {
   "cell_type": "markdown",
   "id": "Fb-P1TatdIxn",
   "metadata": {
    "id": "Fb-P1TatdIxn"
   },
   "source": [
    "<div class=\"markdown-google-sans\">\n",
    "\n",
    "# Getting started with Colab*\n",
    "</div>\n",
    "\n",
    "The document you are reading is not a static web page, but an interactive environment called a **Colab notebook** that lets you write and execute code.\n",
    "\n",
    "For example, here is a **code cell** with a short Python script that computes a value, stores it in a variable, and prints the result:"
   ]
  },
  {
   "cell_type": "code",
   "execution_count": 2,
   "id": "fHcYCjPEcwHN",
   "metadata": {
    "colab": {
     "base_uri": "https://localhost:8080/"
    },
    "executionInfo": {
     "elapsed": 159,
     "status": "ok",
     "timestamp": 1664915558859,
     "user": {
      "displayName": "J. P. Ocón",
      "userId": "03476792622220992313"
     },
     "user_tz": 420
    },
    "id": "fHcYCjPEcwHN",
    "outputId": "f8b02bf7-bb79-458c-de65-211024d4420d"
   },
   "outputs": [
    {
     "data": {
      "text/plain": [
       "86400"
      ]
     },
     "execution_count": 2,
     "metadata": {},
     "output_type": "execute_result"
    }
   ],
   "source": [
    "seconds_in_a_day = 24 * 60 * 60\n",
    "seconds_in_a_day"
   ]
  },
  {
   "cell_type": "markdown",
   "id": "dU7NuNEXc1UX",
   "metadata": {
    "id": "dU7NuNEXc1UX"
   },
   "source": [
    "To execute the code in the above cell, select it with a click and then either press the play button to the left of the code, or use the keyboard shortcut \"Command/Ctrl+Enter\". To edit the code, just click the cell and start editing.\n",
    "\n",
    "Variables that you define in one cell can later be used in other cells:"
   ]
  },
  {
   "cell_type": "code",
   "execution_count": 3,
   "id": "30BWAAh2dO_X",
   "metadata": {
    "colab": {
     "base_uri": "https://localhost:8080/"
    },
    "executionInfo": {
     "elapsed": 215,
     "status": "ok",
     "timestamp": 1664915572411,
     "user": {
      "displayName": "J. P. Ocón",
      "userId": "03476792622220992313"
     },
     "user_tz": 420
    },
    "id": "30BWAAh2dO_X",
    "outputId": "d3008f89-6f0a-471d-fb4e-7742d51febbc"
   },
   "outputs": [
    {
     "data": {
      "text/plain": [
       "604800"
      ]
     },
     "execution_count": 3,
     "metadata": {},
     "output_type": "execute_result"
    }
   ],
   "source": [
    "seconds_in_a_week = 7 * seconds_in_a_day\n",
    "seconds_in_a_week"
   ]
  },
  {
   "cell_type": "markdown",
   "id": "9A5dgKitdXiS",
   "metadata": {
    "id": "9A5dgKitdXiS"
   },
   "source": [
    "Colab notebooks allow you to combine **executable code** and **rich text** in a single document, along with **images**, **HTML**, **LaTeX** and more.\n",
    "\n",
    "\n",
    "When you create your own Colab notebooks, they are stored in your Google Drive account. You can easily share your Colab notebooks with co-workers or friends, allowing them to comment on your notebooks or even edit them.\n"
   ]
  },
  {
   "cell_type": "markdown",
   "id": "yNAI0wFH-IPC",
   "metadata": {
    "id": "yNAI0wFH-IPC"
   },
   "source": [
    "*This section was taken from https://colab.research.google.com/"
   ]
  },
  {
   "cell_type": "markdown",
   "id": "zSo_b1MOdb4c",
   "metadata": {
    "id": "zSo_b1MOdb4c"
   },
   "source": [
    "<div class=\"markdown-google-sans\">\n",
    "\n",
    "# Exploring Colab Features\n",
    "</div>\n",
    "\n",
    "A complete guide to Colab features can be found at  [Overview of Colab](/notebooks/basic_features_overview.ipynb). In this section we will explore some beginner friendly features."
   ]
  },
  {
   "cell_type": "markdown",
   "id": "vqe6DCaSHWcn",
   "metadata": {
    "id": "vqe6DCaSHWcn"
   },
   "source": [
    "<div class=\"markdown-google-sans\">\n",
    "\n",
    "## Debugging and Auto Complete\n",
    "</div>\n",
    "\n",
    "If there is a syntax error, there will be a red squiggle and you can hover your cursor over the squiggle to get more information:"
   ]
  },
  {
   "cell_type": "code",
   "execution_count": 4,
   "id": "KsCTO6ifwCm4",
   "metadata": {
    "colab": {
     "base_uri": "https://localhost:8080/",
     "height": 141
    },
    "executionInfo": {
     "elapsed": 17,
     "status": "error",
     "timestamp": 1716293496540,
     "user": {
      "displayName": "J. P. Ocón",
      "userId": "03476792622220992313"
     },
     "user_tz": 360
    },
    "id": "KsCTO6ifwCm4",
    "outputId": "80278b8a-1f24-461c-d1b1-e2716bbfcfa5"
   },
   "outputs": [
    {
     "ename": "NameError",
     "evalue": "name 'alt' is not defined",
     "output_type": "error",
     "traceback": [
      "\u001b[0;31m---------------------------------------------------------------------------\u001b[0m",
      "\u001b[0;31mNameError\u001b[0m                                 Traceback (most recent call last)",
      "\u001b[0;32m<ipython-input-4-1bcded436f0d>\u001b[0m in \u001b[0;36m<module>\u001b[0;34m\u001b[0m\n\u001b[0;32m----> 1\u001b[0;31m \u001b[0malt\u001b[0m\u001b[0;34m.\u001b[0m\u001b[0mcolor\u001b[0m\u001b[0;34m\u001b[0m\u001b[0;34m\u001b[0m\u001b[0m\n\u001b[0m",
      "\u001b[0;31mNameError\u001b[0m: name 'alt' is not defined"
     ]
    }
   ],
   "source": [
    "alt.color"
   ]
  },
  {
   "cell_type": "markdown",
   "id": "eXmfRkHF86Cv",
   "metadata": {
    "id": "eXmfRkHF86Cv"
   },
   "source": [
    "Use `help` to get the help information for a method:\n",
    "\n"
   ]
  },
  {
   "cell_type": "code",
   "execution_count": null,
   "id": "I0n-RAvEwEyz",
   "metadata": {
    "id": "I0n-RAvEwEyz"
   },
   "outputs": [],
   "source": [
    "help(alt.Chart.mark_bar)"
   ]
  },
  {
   "cell_type": "markdown",
   "id": "kLkvhIayDBQy",
   "metadata": {
    "id": "kLkvhIayDBQy"
   },
   "source": [
    "You can also hover your cursor over a method to get more details on the method signature. For example, try hovering over `help` above ^"
   ]
  },
  {
   "cell_type": "markdown",
   "id": "jbBU153HG9rG",
   "metadata": {
    "id": "jbBU153HG9rG"
   },
   "source": [
    "<div class=\"markdown-google-sans\">\n",
    "\n",
    "# Additional Resources\n",
    "</div>"
   ]
  },
  {
   "cell_type": "markdown",
   "id": "6FKwCFglHFhv",
   "metadata": {
    "id": "6FKwCFglHFhv"
   },
   "source": [
    "Check out the following links for additional information about:\n",
    "\n",
    "- [Overview of Colaboratory Features](/notebooks/basic_features_overview.ipynb)\n",
    "- [Guide to Markdown](/notebooks/markdown_guide.ipynb)\n",
    "- [Jupyter](https://www.jupyter.org)\n"
   ]
  }
 ],
 "metadata": {
  "colab": {
   "provenance": [
    {
     "file_id": "18P77F1bzs6GWb4AslsFz7xlzgRk_0Ny9",
     "timestamp": 1716293196202
    }
   ]
  },
  "kernelspec": {
   "display_name": "Python 3",
   "language": "python",
   "name": "python3"
  },
  "language_info": {
   "codemirror_mode": {
    "name": "ipython",
    "version": 3
   },
   "file_extension": ".py",
   "mimetype": "text/x-python",
   "name": "python",
   "nbconvert_exporter": "python",
   "pygments_lexer": "ipython3",
   "version": "3.7.6"
  }
 },
 "nbformat": 4,
 "nbformat_minor": 5
}