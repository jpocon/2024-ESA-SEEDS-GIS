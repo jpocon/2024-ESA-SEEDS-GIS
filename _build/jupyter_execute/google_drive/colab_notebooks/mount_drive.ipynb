{
 "cells": [
  {
   "cell_type": "markdown",
   "id": "220cf3cd",
   "metadata": {
    "id": "220cf3cd"
   },
   "source": [
    "## **Mounting Google Drive**"
   ]
  },
  {
   "cell_type": "markdown",
   "id": "7bdcd8a5",
   "metadata": {
    "id": "7bdcd8a5"
   },
   "source": [
    "\n",
    "How to integrate Google Drive with Google Colab. This integration will allow you to read from and write to files directly from your Google Drive, providing a seamless way to manage your data and scripts.\n",
    "\n",
    "## Importance of File Handling\n",
    "File handling is a critical skill as it enables you to store, retrieve, and manipulate data. It forms the basis for data analysis, machine learning, and many other areas of programming and data science.\n",
    "\n",
    "## Benefits of Integrating Google Drive with Colab\n",
    "1. **Ease of Access**: You can easily access your files stored in Google Drive from a Colab notebook.\n",
    "2. **Collaboration**: Google Drive facilitates collaboration, allowing multiple users to work on the same files simultaneously.\n",
    "3. **Safe Storage**: Your files are stored safely in Google Drive, and you can access them from any device.\n",
    "\n",
    "\n",
    "\n",
    "### Additional Resources\n",
    "1. [Google Colab Documentation](https://research.google.com/colaboratory/faq.html)\n",
    "2. [Python File I/O](https://docs.python.org/3/tutorial/inputoutput.html#reading-and-writing-files)\n",
    "3. [Google Drive API](https://developers.google.com/drive)\n",
    "\n",
    "Feel free to explore further and utilize the powerful features of Google Colab and Google Drive integration in your projects. Happy coding!\n"
   ]
  },
  {
   "cell_type": "markdown",
   "id": "e79ad48a",
   "metadata": {
    "id": "e79ad48a"
   },
   "source": [
    "## Mounting Google Drive in Google Colab"
   ]
  },
  {
   "cell_type": "markdown",
   "id": "6e83052b",
   "metadata": {
    "id": "6e83052b"
   },
   "source": [
    "\n",
    "Mounting Google Drive in a Colab notebook means that you are connecting your Google Drive account to the Colab environment. Once mounted, you can access files and folders in your Google Drive as if they were in the local file system of the Colab environment.\n",
    "\n",
    "### Steps to Mount Google Drive\n",
    "1. Use the `drive.mount()` method from the `google.colab` module.\n",
    "2. You will be asked to authorize Colab to access your Google Drive. Click on the displayed link to get the authorization code.\n",
    "3. Copy the authorization code and paste it into the input box in the Colab notebook and press enter.\n",
    "\n",
    "Let's see this in action with a code example:\n"
   ]
  },
  {
   "cell_type": "code",
   "execution_count": 1,
   "id": "b3da1834",
   "metadata": {
    "id": "b3da1834"
   },
   "outputs": [
    {
     "ename": "ModuleNotFoundError",
     "evalue": "No module named 'google.colab'",
     "output_type": "error",
     "traceback": [
      "\u001b[0;31m---------------------------------------------------------------------------\u001b[0m",
      "\u001b[0;31mModuleNotFoundError\u001b[0m                       Traceback (most recent call last)",
      "\u001b[0;32m<ipython-input-1-8a622f5b46e3>\u001b[0m in \u001b[0;36m<module>\u001b[0;34m\u001b[0m\n\u001b[1;32m      1\u001b[0m \u001b[0;31m# In a Python 3.x Kernel\u001b[0m\u001b[0;34m\u001b[0m\u001b[0;34m\u001b[0m\u001b[0;34m\u001b[0m\u001b[0m\n\u001b[0;32m----> 2\u001b[0;31m \u001b[0;32mfrom\u001b[0m \u001b[0mgoogle\u001b[0m\u001b[0;34m.\u001b[0m\u001b[0mcolab\u001b[0m \u001b[0;32mimport\u001b[0m \u001b[0mdrive\u001b[0m\u001b[0;34m\u001b[0m\u001b[0;34m\u001b[0m\u001b[0m\n\u001b[0m\u001b[1;32m      3\u001b[0m \u001b[0;34m\u001b[0m\u001b[0m\n\u001b[1;32m      4\u001b[0m \u001b[0;31m# This will prompt for authorization.\u001b[0m\u001b[0;34m\u001b[0m\u001b[0;34m\u001b[0m\u001b[0;34m\u001b[0m\u001b[0m\n\u001b[1;32m      5\u001b[0m \u001b[0mdrive\u001b[0m\u001b[0;34m.\u001b[0m\u001b[0mmount\u001b[0m\u001b[0;34m(\u001b[0m\u001b[0;34m'/content/drive'\u001b[0m\u001b[0;34m)\u001b[0m\u001b[0;34m\u001b[0m\u001b[0;34m\u001b[0m\u001b[0m\n",
      "\u001b[0;31mModuleNotFoundError\u001b[0m: No module named 'google.colab'"
     ]
    }
   ],
   "source": [
    "# In a Python 3.x Kernel\n",
    "from google.colab import drive\n",
    "\n",
    "# This will prompt for authorization.\n",
    "drive.mount('/content/drive')\n"
   ]
  },
  {
   "cell_type": "code",
   "execution_count": null,
   "id": "aRGCKuOQkM5P",
   "metadata": {
    "id": "aRGCKuOQkM5P"
   },
   "outputs": [],
   "source": [
    "# In an R Kernel\n",
    "install.packages(\"googledrive\")\n",
    "install.packages(\"httpuv\")\n",
    "library(\"googledrive\")\n",
    "library(\"httpuv\")\n",
    "\n",
    "if (file.exists(\"/usr/local/lib/python3.10/dist-packages/google/colab_ipython.py\")){\n",
    "  install.packages(\"R.utils\")\n",
    "  library(\"R.utils\")\n",
    "  library(\"httr\")\n",
    "  my_check <- function() {return(TRUE)}\n",
    "  reassignInPackage(\"is_interactive\", pkgName = \"httr\", my_check)\n",
    "  options(rlang_interactive=TRUE)\n",
    "}\n",
    "\n",
    "drive_auth(use_oob = TRUE, cache = TRUE)\n"
   ]
  }
 ],
 "metadata": {
  "colab": {
   "provenance": [
    {
     "file_id": "1v486bXk0PJYrQdcjZjkvuYulokxA2SgJ",
     "timestamp": 1716293252082
    },
    {
     "file_id": "1YqLFiqMM-kNp7KrWjbWIsCdjaFQE3-T0",
     "timestamp": 1697640535247
    }
   ]
  },
  "language_info": {
   "codemirror_mode": {
    "name": "ipython",
    "version": 3
   },
   "file_extension": ".py",
   "mimetype": "text/x-python",
   "name": "python",
   "nbconvert_exporter": "python",
   "pygments_lexer": "ipython3",
   "version": "3.7.6"
  }
 },
 "nbformat": 4,
 "nbformat_minor": 5
}